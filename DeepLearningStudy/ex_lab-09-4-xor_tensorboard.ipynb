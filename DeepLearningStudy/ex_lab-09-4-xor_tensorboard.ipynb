{
 "cells": [
  {
   "cell_type": "markdown",
   "metadata": {},
   "source": [
    "# [ Lab 9-4 : XOR ]\n"
   ]
  },
  {
   "cell_type": "code",
   "execution_count": 1,
   "metadata": {},
   "outputs": [
    {
     "name": "stdout",
     "output_type": "stream",
     "text": [
      "tensorflow version: 1.2.0\n",
      "numpy version: 1.13.0\n"
     ]
    }
   ],
   "source": [
    "# Lab 9 XOR\n",
    "import os\n",
    "# silence INFO logs set it to 1\n",
    "# filter out WARNING set it to 2 \n",
    "# silence ERROR logs (not recommended) set it to 3\n",
    "os.environ['TF_CPP_MIN_LOG_LEVEL'] = '2'\n",
    "\n",
    "import tensorflow as tf\n",
    "import numpy as np\n",
    "\n",
    "\n",
    "print('tensorflow version: {0}'.format(tf.__version__))\n",
    "print('numpy version: {0}'.format(np.__version__))\n"
   ]
  },
  {
   "cell_type": "markdown",
   "metadata": {},
   "source": [
    "# For reproducibility"
   ]
  },
  {
   "cell_type": "code",
   "execution_count": 2,
   "metadata": {
    "collapsed": true
   },
   "outputs": [],
   "source": [
    "tf.set_random_seed(777)  # for reproducibility\n"
   ]
  },
  {
   "cell_type": "markdown",
   "metadata": {},
   "source": [
    "# Init. variables"
   ]
  },
  {
   "cell_type": "code",
   "execution_count": 3,
   "metadata": {
    "collapsed": true
   },
   "outputs": [],
   "source": [
    "learning_rate = 0.01\n",
    "\n",
    "x_data = [[0, 0],\n",
    "          [0, 1],\n",
    "          [1, 0],\n",
    "          [1, 1]]\n",
    "y_data = [[0],\n",
    "          [1],\n",
    "          [1],\n",
    "          [0]]\n",
    "x_data = np.array(x_data, dtype=np.float32)\n",
    "y_data = np.array(y_data, dtype=np.float32)\n",
    "\n",
    "X = tf.placeholder(tf.float32, [None, 2], name='x-input')\n",
    "Y = tf.placeholder(tf.float32, [None, 1], name='y-input')\n",
    "\n"
   ]
  },
  {
   "cell_type": "markdown",
   "metadata": {},
   "source": [
    "# Layer1"
   ]
  },
  {
   "cell_type": "code",
   "execution_count": 4,
   "metadata": {
    "collapsed": true
   },
   "outputs": [],
   "source": [
    "with tf.name_scope(\"layer1\") as scope:\n",
    "    W1 = tf.Variable(tf.random_normal([2, 2]), name='weight1')\n",
    "    b1 = tf.Variable(tf.random_normal([2]), name='bias1')\n",
    "    layer1 = tf.sigmoid(tf.matmul(X, W1) + b1)\n",
    "\n",
    "    w1_hist = tf.summary.histogram(\"weights1\", W1)\n",
    "    b1_hist = tf.summary.histogram(\"biases1\", b1)\n",
    "    layer1_hist = tf.summary.histogram(\"layer1\", layer1)\n",
    "\n",
    "\n"
   ]
  },
  {
   "cell_type": "markdown",
   "metadata": {},
   "source": [
    "# Layer2"
   ]
  },
  {
   "cell_type": "code",
   "execution_count": 5,
   "metadata": {
    "collapsed": true
   },
   "outputs": [],
   "source": [
    "with tf.name_scope(\"layer2\") as scope:\n",
    "    W2 = tf.Variable(tf.random_normal([2, 1]), name='weight2')\n",
    "    b2 = tf.Variable(tf.random_normal([1]), name='bias2')\n",
    "    hypothesis = tf.sigmoid(tf.matmul(layer1, W2) + b2)\n",
    "\n",
    "    w2_hist = tf.summary.histogram(\"weights2\", W2)\n",
    "    b2_hist = tf.summary.histogram(\"biases2\", b2)\n",
    "    hypothesis_hist = tf.summary.histogram(\"hypothesis\", hypothesis)\n",
    "\n"
   ]
  },
  {
   "cell_type": "markdown",
   "metadata": {},
   "source": [
    "# Cost/loss function"
   ]
  },
  {
   "cell_type": "code",
   "execution_count": 6,
   "metadata": {
    "collapsed": true
   },
   "outputs": [],
   "source": [
    "# cost/loss function\n",
    "with tf.name_scope(\"cost\") as scope:\n",
    "    cost = -tf.reduce_mean(Y * tf.log(hypothesis) + (1 - Y) *\n",
    "                           tf.log(1 - hypothesis))\n",
    "    cost_summ = tf.summary.scalar(\"cost\", cost)\n",
    "\n"
   ]
  },
  {
   "cell_type": "markdown",
   "metadata": {},
   "source": [
    "# Training"
   ]
  },
  {
   "cell_type": "code",
   "execution_count": 7,
   "metadata": {
    "collapsed": true
   },
   "outputs": [],
   "source": [
    "with tf.name_scope(\"train\") as scope:\n",
    "    train = tf.train.AdamOptimizer(learning_rate=learning_rate).minimize(cost)\n",
    "\n"
   ]
  },
  {
   "cell_type": "markdown",
   "metadata": {},
   "source": [
    "# Accuracy computation\n",
    ">  True if hypothesis > 0.5 else False"
   ]
  },
  {
   "cell_type": "code",
   "execution_count": 8,
   "metadata": {
    "collapsed": true
   },
   "outputs": [],
   "source": [
    "# Accuracy computation\n",
    "# True if hypothesis>0.5 else False\n",
    "predicted = tf.cast(hypothesis > 0.5, dtype=tf.float32)\n",
    "accuracy = tf.reduce_mean(tf.cast(tf.equal(predicted, Y), dtype=tf.float32))\n",
    "accuracy_summ = tf.summary.scalar(\"accuracy\", accuracy)\n",
    "\n"
   ]
  },
  {
   "cell_type": "markdown",
   "metadata": {},
   "source": [
    "# Launch graph"
   ]
  },
  {
   "cell_type": "code",
   "execution_count": 9,
   "metadata": {},
   "outputs": [
    {
     "name": "stdout",
     "output_type": "stream",
     "text": [
      "0 0.715638 [array([[ 0.79269594,  0.68861032],\n",
      "       [-1.20728338, -0.29517072]], dtype=float32), array([[ 1.7177    ],\n",
      "       [ 0.35572484]], dtype=float32)]\n",
      "100 0.690733 [array([[ 0.32268241, -0.23303069],\n",
      "       [-0.77434164,  0.80529422]], dtype=float32), array([[ 1.46081126],\n",
      "       [ 0.78415203]], dtype=float32)]\n",
      "200 0.495032 [array([[ 1.67216921, -2.3216548 ],\n",
      "       [-2.21686363,  2.656147  ]], dtype=float32), array([[ 2.82439113],\n",
      "       [ 2.60258126]], dtype=float32)]\n",
      "300 0.223746 [array([[ 3.18776298, -3.74428821],\n",
      "       [-3.69724321,  4.12956667]], dtype=float32), array([[ 4.70040798],\n",
      "       [ 4.31880617]], dtype=float32)]\n",
      "400 0.122295 [array([[ 3.98867273, -4.52083349],\n",
      "       [-4.4841404 ,  4.90343523]], dtype=float32), array([[ 5.8487258],\n",
      "       [ 5.4189949]], dtype=float32)]\n",
      "500 0.0788432 [array([[ 4.48614645, -5.01518679],\n",
      "       [-4.97325087,  5.39076948]], dtype=float32), array([[ 6.64474821],\n",
      "       [ 6.20202589]], dtype=float32)]\n",
      "600 0.0559812 [array([[ 4.83938599, -5.37066126],\n",
      "       [-5.32105875,  5.7398572 ]], dtype=float32), array([[ 7.25862885],\n",
      "       [ 6.81329823]], dtype=float32)]\n",
      "700 0.0422427 [array([[ 5.11104488, -5.64595747],\n",
      "       [-5.58890343,  6.00981092]], dtype=float32), array([[ 7.76264477],\n",
      "       [ 7.31833792]], dtype=float32)]\n",
      "800 0.0332273 [array([[ 5.33089542, -5.86969662],\n",
      "       [-5.80591345,  6.22909069]], dtype=float32), array([[ 8.19312191],\n",
      "       [ 7.75121689]], dtype=float32)]\n",
      "900 0.0269335 [array([[ 5.51517677, -6.05774879],\n",
      "       [-5.98799467,  6.41337395]], dtype=float32), array([[ 8.57083035],\n",
      "       [ 8.13182545]], dtype=float32)]\n",
      "1000 0.022334 [array([[ 5.67364979, -6.21975279],\n",
      "       [-6.14471054,  6.57215261]], dtype=float32), array([[ 8.90876007],\n",
      "       [ 8.4727869 ]], dtype=float32)]\n",
      "1100 0.0188525 [array([[ 5.81260777, -6.36198664],\n",
      "       [-6.28222895,  6.71158361]], dtype=float32), array([[ 9.21561146],\n",
      "       [ 8.78262043]], dtype=float32)]\n",
      "1200 0.0161428 [array([[ 5.93633652, -6.48873949],\n",
      "       [-6.40475273,  6.83587122]], dtype=float32), array([[ 9.49747658],\n",
      "       [ 9.06736851]], dtype=float32)]\n",
      "1300 0.0139857 [array([[ 6.04787445, -6.60307837],\n",
      "       [-6.51526976,  6.94801474]], dtype=float32), array([[ 9.75883579],\n",
      "       [ 9.33147717]], dtype=float32)]\n",
      "1400 0.012236 [array([[ 6.1494503 , -6.70725632],\n",
      "       [-6.61597157,  7.05021954]], dtype=float32), array([[ 10.00305462],\n",
      "       [  9.57830334]], dtype=float32)]\n",
      "1500 0.0107943 [array([[ 6.24275303, -6.8029747 ],\n",
      "       [-6.70851421,  7.14415741]], dtype=float32), array([[ 10.23274231],\n",
      "       [  9.81045437]], dtype=float32)]\n",
      "1600 0.00959032 [array([[ 6.32908058, -6.89155769],\n",
      "       [-6.79417372,  7.23111629]], dtype=float32), array([[ 10.44996071],\n",
      "       [ 10.02999973]], dtype=float32)]\n",
      "1700 0.00857318 [array([[ 6.40945625, -6.97404766],\n",
      "       [-6.87396002,  7.31211519]], dtype=float32), array([[ 10.65636539],\n",
      "       [ 10.23861217]], dtype=float32)]\n",
      "1800 0.00770517 [array([[ 6.48469973, -7.05127716],\n",
      "       [-6.94868088,  7.38797235]], dtype=float32), array([[ 10.85331535],\n",
      "       [ 10.43765163]], dtype=float32)]\n",
      "1900 0.00695786 [array([[ 6.55548048, -7.12392998],\n",
      "       [-7.01899099,  7.45935011]], dtype=float32), array([[ 11.04193211],\n",
      "       [ 10.62824631]], dtype=float32)]\n",
      "2000 0.00630939 [array([[ 6.62234497, -7.19256639],\n",
      "       [-7.08543205,  7.52679729]], dtype=float32), array([[ 11.22315598],\n",
      "       [ 10.81134701]], dtype=float32)]\n",
      "2100 0.00574271 [array([[ 6.68574953, -7.25765228],\n",
      "       [-7.14845371,  7.59076881]], dtype=float32), array([[ 11.39778233],\n",
      "       [ 10.98776436]], dtype=float32)]\n",
      "2200 0.00524449 [array([[ 6.74607801, -7.31957722],\n",
      "       [-7.20843363,  7.65165138]], dtype=float32), array([[ 11.56649017],\n",
      "       [ 11.15817833]], dtype=float32)]\n",
      "2300 0.0048039 [array([[ 6.80365419, -7.37867737],\n",
      "       [-7.26569319,  7.70976782]], dtype=float32), array([[ 11.72986698],\n",
      "       [ 11.32318687]], dtype=float32)]\n",
      "2400 0.00441234 [array([[ 6.85876036, -7.43523693],\n",
      "       [-7.32050467,  7.76539803]], dtype=float32), array([[ 11.8884182 ],\n",
      "       [ 11.48329544]], dtype=float32)]\n",
      "2500 0.00406272 [array([[ 6.91163111, -7.48950243],\n",
      "       [-7.37310982,  7.81878185]], dtype=float32), array([[ 12.04259109],\n",
      "       [ 11.6389637 ]], dtype=float32)]\n",
      "2600 0.00374917 [array([[ 6.96247816, -7.54168367],\n",
      "       [-7.42370987,  7.8701272 ]], dtype=float32), array([[ 12.19276905],\n",
      "       [ 11.79058075]], dtype=float32)]\n",
      "2700 0.00346698 [array([[ 7.01147985, -7.59197092],\n",
      "       [-7.47248554,  7.91961718]], dtype=float32), array([[ 12.33930111],\n",
      "       [ 11.9384985 ]], dtype=float32)]\n",
      "2800 0.00321206 [array([[ 7.05879593, -7.64052582],\n",
      "       [-7.51959324,  7.96741152]], dtype=float32), array([[ 12.4824934 ],\n",
      "       [ 12.08301926]], dtype=float32)]\n",
      "2900 0.002981 [array([[ 7.10456848, -7.68749142],\n",
      "       [-7.5651722 ,  8.01364899]], dtype=float32), array([[ 12.62261105],\n",
      "       [ 12.22442722]], dtype=float32)]\n",
      "3000 0.00277098 [array([[ 7.14892006, -7.73299503],\n",
      "       [-7.60934496,  8.05845451]], dtype=float32), array([[ 12.75990582],\n",
      "       [ 12.36296463]], dtype=float32)]\n",
      "3100 0.00257957 [array([[ 7.19196272, -7.77715158],\n",
      "       [-7.65221882,  8.10194206]], dtype=float32), array([[ 12.89458942],\n",
      "       [ 12.49885368]], dtype=float32)]\n",
      "3200 0.00240461 [array([[ 7.2337923 , -7.82005978],\n",
      "       [-7.69389296,  8.14420605]], dtype=float32), array([[ 13.02686214],\n",
      "       [ 12.63229847]], dtype=float32)]\n",
      "3300 0.00224431 [array([[ 7.27449942, -7.86181307],\n",
      "       [-7.73445463,  8.18533897]], dtype=float32), array([[ 13.15690517],\n",
      "       [ 12.76347065]], dtype=float32)]\n",
      "3400 0.00209714 [array([[ 7.31416225, -7.90249252],\n",
      "       [-7.77398205,  8.22541904]], dtype=float32), array([[ 13.28487682],\n",
      "       [ 12.89254189]], dtype=float32)]\n",
      "3500 0.00196177 [array([[ 7.35285234, -7.94217205],\n",
      "       [-7.81254578,  8.26452065]], dtype=float32), array([[ 13.41092491],\n",
      "       [ 13.01966095]], dtype=float32)]\n",
      "3600 0.00183697 [array([[ 7.39063692, -7.98091555],\n",
      "       [-7.85020971,  8.30270481]], dtype=float32), array([[ 13.53518677],\n",
      "       [ 13.14496136]], dtype=float32)]\n",
      "3700 0.00172173 [array([[ 7.42757082, -8.01878643],\n",
      "       [-7.88703346,  8.34003353]], dtype=float32), array([[ 13.65778446],\n",
      "       [ 13.26856995]], dtype=float32)]\n",
      "3800 0.00161514 [array([[ 7.46371126, -8.05583858],\n",
      "       [-7.92306852,  8.37655926]], dtype=float32), array([[ 13.77882862],\n",
      "       [ 13.39059925]], dtype=float32)]\n",
      "3900 0.00151637 [array([[ 7.49910593, -8.09212112],\n",
      "       [-7.95836401,  8.41233444]], dtype=float32), array([[ 13.89842224],\n",
      "       [ 13.51115799]], dtype=float32)]\n",
      "4000 0.00142472 [array([[ 7.53379822, -8.12767982],\n",
      "       [-7.99296522,  8.44739819]], dtype=float32), array([[ 14.01666355],\n",
      "       [ 13.63034058]], dtype=float32)]\n",
      "4100 0.00133961 [array([[ 7.56782913, -8.16255951],\n",
      "       [-8.02690887,  8.48179722]], dtype=float32), array([[ 14.13364124],\n",
      "       [ 13.74823475]], dtype=float32)]\n",
      "4200 0.00126037 [array([[ 7.60123825, -8.19679737],\n",
      "       [-8.06023502,  8.51556683]], dtype=float32), array([[ 14.24943542],\n",
      "       [ 13.86492538]], dtype=float32)]\n",
      "4300 0.0011866 [array([[ 7.63405848, -8.2304287 ],\n",
      "       [-8.09297848,  8.54874134]], dtype=float32), array([[ 14.36411953],\n",
      "       [ 13.98048401]], dtype=float32)]\n",
      "4400 0.00111781 [array([[ 7.66632032, -8.26348495],\n",
      "       [-8.12516785,  8.58135414]], dtype=float32), array([[ 14.47776508],\n",
      "       [ 14.09498692]], dtype=float32)]\n",
      "4500 0.00105356 [array([[ 7.69805431, -8.29599953],\n",
      "       [-8.15683651,  8.61343479]], dtype=float32), array([[ 14.59043407],\n",
      "       [ 14.208498  ]], dtype=float32)]\n",
      "4600 0.000993571 [array([[ 7.72928953, -8.32799721],\n",
      "       [-8.18800831,  8.6450119 ]], dtype=float32), array([[ 14.70218945],\n",
      "       [ 14.3210783 ]], dtype=float32)]\n",
      "4700 0.000937398 [array([[ 7.76004934, -8.35950661],\n",
      "       [-8.21870899,  8.67610645]], dtype=float32), array([[ 14.81308651],\n",
      "       [ 14.43278503]], dtype=float32)]\n",
      "4800 0.000884853 [array([[ 7.79035616, -8.39054871],\n",
      "       [-8.24895859,  8.70674324]], dtype=float32), array([[ 14.92317486],\n",
      "       [ 14.54366779]], dtype=float32)]\n",
      "4900 0.000835607 [array([[ 7.82023335, -8.42115021],\n",
      "       [-8.27878475,  8.73694897]], dtype=float32), array([[ 15.03250694],\n",
      "       [ 14.65377808]], dtype=float32)]\n"
     ]
    },
    {
     "name": "stdout",
     "output_type": "stream",
     "text": [
      "5000 0.000789405 [array([[ 7.84969997, -8.45132446],\n",
      "       [-8.30820274,  8.76673508]], dtype=float32), array([[ 15.14112568],\n",
      "       [ 14.76316071]], dtype=float32)]\n",
      "5100 0.000746024 [array([[ 7.8787756 , -8.48109531],\n",
      "       [-8.33723164,  8.79612732]], dtype=float32), array([[ 15.24907303],\n",
      "       [ 14.87186241]], dtype=float32)]\n",
      "5200 0.000705329 [array([[ 7.9074769 , -8.51048279],\n",
      "       [-8.36588955,  8.82514381]], dtype=float32), array([[ 15.35638809],\n",
      "       [ 14.97991657]], dtype=float32)]\n",
      "5300 0.000667051 [array([[ 7.9358201 , -8.53950214],\n",
      "       [-8.39419079,  8.85379791]], dtype=float32), array([[ 15.46310806],\n",
      "       [ 15.08736515]], dtype=float32)]\n",
      "5400 0.000631071 [array([[ 7.96382141, -8.56816483],\n",
      "       [-8.42215824,  8.88210392]], dtype=float32), array([[ 15.56927395],\n",
      "       [ 15.19424057]], dtype=float32)]\n",
      "5500 0.000597195 [array([[ 7.99149418, -8.59649181],\n",
      "       [-8.44979286,  8.91008186]], dtype=float32), array([[ 15.67490673],\n",
      "       [ 15.30058002]], dtype=float32)]\n",
      "5600 0.000565347 [array([[ 8.01884937, -8.62449074],\n",
      "       [-8.47711849,  8.93773842]], dtype=float32), array([[ 15.78004646],\n",
      "       [ 15.40641022]], dtype=float32)]\n",
      "5700 0.00053529 [array([[ 8.04590416, -8.65218067],\n",
      "       [-8.50414467,  8.96508884]], dtype=float32), array([[ 15.88471603],\n",
      "       [ 15.51176357]], dtype=float32)]\n",
      "5800 0.000506993 [array([[ 8.07267094, -8.67957115],\n",
      "       [-8.53088188,  8.99214745]], dtype=float32), array([[ 15.98894882],\n",
      "       [ 15.61666584]], dtype=float32)]\n",
      "5900 0.000480276 [array([[ 8.09915638, -8.70667267],\n",
      "       [-8.55734158,  9.01892185]], dtype=float32), array([[ 16.0927639 ],\n",
      "       [ 15.72114086]], dtype=float32)]\n",
      "6000 0.000455096 [array([[ 8.12537479, -8.73349476],\n",
      "       [-8.58353519,  9.04543018]], dtype=float32), array([[ 16.19618034],\n",
      "       [ 15.8252182 ]], dtype=float32)]\n",
      "6100 0.000431318 [array([[ 8.15132999, -8.76004982],\n",
      "       [-8.60947132,  9.07166576]], dtype=float32), array([[ 16.2992382 ],\n",
      "       [ 15.92891407]], dtype=float32)]\n",
      "6200 0.000408913 [array([[ 8.17703915, -8.7863493 ],\n",
      "       [-8.63515568,  9.0976553 ]], dtype=float32), array([[ 16.40194511],\n",
      "       [ 16.03223991]], dtype=float32)]\n",
      "6300 0.000387685 [array([[ 8.2025032 , -8.8123951 ],\n",
      "       [-8.66060638,  9.12339973]], dtype=float32), array([[ 16.5043087 ],\n",
      "       [ 16.13524628]], dtype=float32)]\n",
      "6400 0.000367665 [array([[ 8.22773457, -8.83820343],\n",
      "       [-8.68581963,  9.1489048 ]], dtype=float32), array([[ 16.60636902],\n",
      "       [ 16.23793793]], dtype=float32)]\n",
      "6500 0.000348748 [array([[ 8.252738  , -8.86377335],\n",
      "       [-8.71080971,  9.17418385]], dtype=float32), array([[ 16.70813179],\n",
      "       [ 16.34031105]], dtype=float32)]\n",
      "6600 0.000330831 [array([[ 8.27752972, -8.88912487],\n",
      "       [-8.73558712,  9.19924545]], dtype=float32), array([[ 16.8096447 ],\n",
      "       [ 16.44242477]], dtype=float32)]\n",
      "6700 0.000313883 [array([[ 8.30210972, -8.9142561 ],\n",
      "       [-8.76015568,  9.22408485]], dtype=float32), array([[ 16.91086769],\n",
      "       [ 16.54424477]], dtype=float32)]\n",
      "6800 0.000297859 [array([[ 8.32648468, -8.93917179],\n",
      "       [-8.78451538,  9.24871826]], dtype=float32), array([[ 17.01185799],\n",
      "       [ 16.6458168 ]], dtype=float32)]\n",
      "6900 0.000282686 [array([[ 8.35065651, -8.9638834 ],\n",
      "       [-8.80867863,  9.27315044]], dtype=float32), array([[ 17.11262131],\n",
      "       [ 16.74715805]], dtype=float32)]\n",
      "7000 0.000268332 [array([[ 8.37463665, -8.98839569],\n",
      "       [-8.83265114,  9.2973938 ]], dtype=float32), array([[ 17.21317101],\n",
      "       [ 16.84827423]], dtype=float32)]\n",
      "7100 0.000254738 [array([[ 8.39842892, -9.01271629],\n",
      "       [-8.85643959,  9.32144928]], dtype=float32), array([[ 17.31349373],\n",
      "       [ 16.94919395]], dtype=float32)]\n",
      "7200 0.000241846 [array([[ 8.42203522, -9.03684902],\n",
      "       [-8.88004398,  9.34531689]], dtype=float32), array([[ 17.41362953],\n",
      "       [ 17.04989433]], dtype=float32)]\n",
      "7300 0.000229639 [array([[ 8.44546604, -9.06079865],\n",
      "       [-8.90347099,  9.36900902]], dtype=float32), array([[ 17.5135746],\n",
      "       [ 17.1504097]], dtype=float32)]\n",
      "7400 0.000218102 [array([[ 8.46872425, -9.08457184],\n",
      "       [-8.92672729,  9.39251804]], dtype=float32), array([[ 17.61334419],\n",
      "       [ 17.25073624]], dtype=float32)]\n",
      "7500 0.000207103 [array([[ 8.49181747, -9.10817146],\n",
      "       [-8.94981956,  9.41586208]], dtype=float32), array([[ 17.71294975],\n",
      "       [ 17.35089302]], dtype=float32)]\n",
      "7600 0.00019673 [array([[ 8.5147562 , -9.13159466],\n",
      "       [-8.97275066,  9.43903732]], dtype=float32), array([[ 17.81244278],\n",
      "       [ 17.45088196]], dtype=float32)]\n",
      "7700 0.000186893 [array([[ 8.53752899, -9.15485764],\n",
      "       [-8.99551773,  9.46205521]], dtype=float32), array([[ 17.91179848],\n",
      "       [ 17.55072975]], dtype=float32)]\n",
      "7800 0.000177533 [array([[ 8.56014824, -9.17796516],\n",
      "       [-9.01813984,  9.48490334]], dtype=float32), array([[ 18.01098061],\n",
      "       [ 17.65044975]], dtype=float32)]\n",
      "7900 0.000168681 [array([[ 8.58261013, -9.20090675],\n",
      "       [-9.04060364,  9.50760651]], dtype=float32), array([[ 18.11004257],\n",
      "       [ 17.75001335]], dtype=float32)]\n",
      "8000 0.00016026 [array([[ 8.60492706, -9.22369862],\n",
      "       [-9.06292439,  9.53015804]], dtype=float32), array([[ 18.20902443],\n",
      "       [ 17.84943771]], dtype=float32)]\n",
      "8100 0.000152331 [array([[ 8.62709713, -9.24634457],\n",
      "       [-9.08510017,  9.55257416]], dtype=float32), array([[ 18.30782509],\n",
      "       [ 17.94881058]], dtype=float32)]\n",
      "8200 0.000144731 [array([[ 8.64912224, -9.26884079],\n",
      "       [-9.10713863,  9.57484055]], dtype=float32), array([[ 18.40654945],\n",
      "       [ 18.04801559]], dtype=float32)]\n",
      "8300 0.000137547 [array([[ 8.67100906, -9.29119968],\n",
      "       [-9.12903309,  9.59696579]], dtype=float32), array([[ 18.50515938],\n",
      "       [ 18.14717674]], dtype=float32)]\n",
      "8400 0.000130737 [array([[ 8.69276714, -9.31341362],\n",
      "       [-9.15080452,  9.6189518 ]], dtype=float32), array([[ 18.60368919],\n",
      "       [ 18.24616814]], dtype=float32)]\n",
      "8500 0.000124269 [array([[ 8.71438313, -9.33549213],\n",
      "       [-9.17242718,  9.64081097]], dtype=float32), array([[ 18.70210838],\n",
      "       [ 18.34514046]], dtype=float32)]\n",
      "8600 0.000118114 [array([[ 8.73587894, -9.35743999],\n",
      "       [-9.19392967,  9.66252422]], dtype=float32), array([[ 18.80049515],\n",
      "       [ 18.44394112]], dtype=float32)]\n",
      "8700 0.000112287 [array([[ 8.75724602, -9.37924671],\n",
      "       [-9.21531105,  9.68411732]], dtype=float32), array([[ 18.8987236 ],\n",
      "       [ 18.54274178]], dtype=float32)]\n",
      "8800 0.000106758 [array([[ 8.77848244, -9.40093231],\n",
      "       [-9.2365551 ,  9.7055788 ]], dtype=float32), array([[ 18.99695206],\n",
      "       [ 18.64137268]], dtype=float32)]\n",
      "8900 0.000101482 [array([[ 8.7996006 , -9.42248917],\n",
      "       [-9.2576828 ,  9.72691441]], dtype=float32), array([[ 19.09507942],\n",
      "       [ 18.7399826 ]], dtype=float32)]\n",
      "9000 9.64897e-05 [array([[ 8.82060337, -9.44391537],\n",
      "       [-9.27869606,  9.74813175]], dtype=float32), array([[ 19.19311714],\n",
      "       [ 18.83855438]], dtype=float32)]\n",
      "9100 9.17507e-05 [array([[ 8.84147644, -9.46522522],\n",
      "       [-9.29959106,  9.76923561]], dtype=float32), array([[ 19.29115486],\n",
      "       [ 18.93697357]], dtype=float32)]\n",
      "9200 8.72352e-05 [array([[ 8.86223602, -9.48641968],\n",
      "       [-9.32036209,  9.79021645]], dtype=float32), array([[ 19.38911819],\n",
      "       [ 19.03539276]], dtype=float32)]\n",
      "9300 8.29284e-05 [array([[ 8.88288403, -9.50748825],\n",
      "       [-9.34102249,  9.81107426]], dtype=float32), array([[ 19.48696518],\n",
      "       [ 19.13381195]], dtype=float32)]\n",
      "9400 7.88601e-05 [array([[ 8.90342617, -9.52843952],\n",
      "       [-9.36157417,  9.8318243 ]], dtype=float32), array([[ 19.58481216],\n",
      "       [ 19.23205185]], dtype=float32)]\n",
      "9500 7.49855e-05 [array([[ 8.92385578, -9.54928017],\n",
      "       [-9.38201809,  9.85246277]], dtype=float32), array([[ 19.68265915],\n",
      "       [ 19.3302803 ]], dtype=float32)]\n",
      "9600 7.13344e-05 [array([[ 8.94417572, -9.57001114],\n",
      "       [-9.40235615,  9.87298965]], dtype=float32), array([[ 19.78043556],\n",
      "       [ 19.42850876]], dtype=float32)]\n",
      "9700 6.78175e-05 [array([[ 8.96438599, -9.59063339],\n",
      "       [-9.42258739,  9.8934145 ]], dtype=float32), array([[ 19.87809181],\n",
      "       [ 19.52672958]], dtype=float32)]\n",
      "9800 6.45092e-05 [array([[ 8.98449039, -9.61114883],\n",
      "       [-9.44271374,  9.91372871]], dtype=float32), array([[ 19.97574806],\n",
      "       [ 19.6247921 ]], dtype=float32)]\n"
     ]
    },
    {
     "name": "stdout",
     "output_type": "stream",
     "text": [
      "9900 6.13649e-05 [array([[ 9.00449181, -9.63154984],\n",
      "       [-9.46273327,  9.93393517]], dtype=float32), array([[ 20.07340431],\n",
      "       [ 19.72282982]], dtype=float32)]\n",
      "10000 5.83398e-05 [array([[ 9.02439404, -9.65184593],\n",
      "       [-9.48265266,  9.95403957]], dtype=float32), array([[ 20.17106056],\n",
      "       [ 19.82086754]], dtype=float32)]\n",
      "\n",
      "Hypothesis:  [[  6.13103257e-05]\n",
      " [  9.99936938e-01]\n",
      " [  9.99950767e-01]\n",
      " [  5.97514700e-05]] \n",
      "Correct:  [[ 0.]\n",
      " [ 1.]\n",
      " [ 1.]\n",
      " [ 0.]] \n",
      "Accuracy:  1.0\n"
     ]
    },
    {
     "data": {
      "text/plain": [
       "'\\nHypothesis:  [[ 0.01338218]\\n [ 0.98166394]\\n [ 0.98809403]\\n [ 0.01135799]]\\nCorrect:  [[ 0.]\\n [ 1.]\\n [ 1.]\\n [ 0.]]\\nAccuracy:  1.0\\n'"
      ]
     },
     "execution_count": 9,
     "metadata": {},
     "output_type": "execute_result"
    }
   ],
   "source": [
    "# Launch graph\n",
    "with tf.Session() as sess:\n",
    "    # tensorboard --logdir=./logs/xor_logs\n",
    "    merged_summary = tf.summary.merge_all()\n",
    "    writer = tf.summary.FileWriter(\"./logs/xor_logs_r0_01\")\n",
    "    writer.add_graph(sess.graph)  # Show the graph\n",
    "\n",
    "    # Initialize TensorFlow variables\n",
    "    sess.run(tf.global_variables_initializer())\n",
    "\n",
    "    for step in range(10001):\n",
    "        summary, _ = sess.run([merged_summary, train], feed_dict={X: x_data, Y: y_data})\n",
    "        writer.add_summary(summary, global_step=step)\n",
    "\n",
    "        if step % 100 == 0:\n",
    "            print(step, sess.run(cost, feed_dict={\n",
    "                  X: x_data, Y: y_data}), sess.run([W1, W2]))\n",
    "\n",
    "    # Accuracy report\n",
    "    h, c, a = sess.run([hypothesis, predicted, accuracy],\n",
    "                       feed_dict={X: x_data, Y: y_data})\n",
    "    print(\"\\nHypothesis: \", h, \"\\nCorrect: \", c, \"\\nAccuracy: \", a)\n",
    "\n",
    "\n",
    "'''\n",
    "Hypothesis:  [[ 0.01338218]\n",
    " [ 0.98166394]\n",
    " [ 0.98809403]\n",
    " [ 0.01135799]]\n",
    "Correct:  [[ 0.]\n",
    " [ 1.]\n",
    " [ 1.]\n",
    " [ 0.]]\n",
    "Accuracy:  1.0\n",
    "'''"
   ]
  }
 ],
 "metadata": {
  "kernelspec": {
   "display_name": "Python 3",
   "language": "python",
   "name": "python3"
  },
  "language_info": {
   "codemirror_mode": {
    "name": "ipython",
    "version": 3
   },
   "file_extension": ".py",
   "mimetype": "text/x-python",
   "name": "python",
   "nbconvert_exporter": "python",
   "pygments_lexer": "ipython3",
   "version": "3.5.3"
  }
 },
 "nbformat": 4,
 "nbformat_minor": 2
}
