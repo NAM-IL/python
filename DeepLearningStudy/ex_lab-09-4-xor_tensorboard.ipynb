{
 "cells": [
  {
   "cell_type": "markdown",
   "metadata": {},
   "source": [
    "# <span style=\"color:blue\">[</span> Lab 9-4 : XOR_TensorBoard <span style=\"color:blue\">]</span>\n",
    "\n",
    "><p>출처: <a href=\"http://hunkim.github.io/ml/\" title=\"모두를 위한 머신러닝과 딥러닝의 강의\" target=\"blank\">모두를 위한 머신러닝과 딥러닝의 강의</a></p>"
   ]
  },
  {
   "cell_type": "code",
   "execution_count": null,
   "metadata": {},
   "outputs": [
    {
     "name": "stdout",
     "output_type": "stream",
     "text": [
      "tensorflow version: 1.2.0\n",
      "numpy version: 1.13.0\n"
     ]
    }
   ],
   "source": [
    "# Lab 9 XOR\n",
    "import os\n",
    "# silence INFO logs set it to 1\n",
    "# filter out WARNING set it to 2 \n",
    "# silence ERROR logs (not recommended) set it to 3\n",
    "os.environ['TF_CPP_MIN_LOG_LEVEL'] = '2'\n",
    "\n",
    "import tensorflow as tf\n",
    "import numpy as np\n",
    "\n",
    "print('tensorflow version: {0}'.format(tf.__version__))\n",
    "print('numpy version: {0}'.format(np.__version__))"
   ]
  },
  {
   "cell_type": "markdown",
   "metadata": {},
   "source": [
    "# For reproducibility"
   ]
  },
  {
   "cell_type": "code",
   "execution_count": 2,
   "metadata": {
    "collapsed": true
   },
   "outputs": [],
   "source": [
    "tf.set_random_seed(777)  # for reproducibility"
   ]
  },
  {
   "cell_type": "markdown",
   "metadata": {},
   "source": [
    "# Init. variables"
   ]
  },
  {
   "cell_type": "code",
   "execution_count": 3,
   "metadata": {
    "collapsed": true
   },
   "outputs": [],
   "source": [
    "learning_rate = 0.01\n",
    "\n",
    "x_data = [[0, 0],\n",
    "          [0, 1],\n",
    "          [1, 0],\n",
    "          [1, 1]]\n",
    "y_data = [[0],\n",
    "          [1],\n",
    "          [1],\n",
    "          [0]]\n",
    "x_data = np.array(x_data, dtype=np.float32)\n",
    "y_data = np.array(y_data, dtype=np.float32)\n",
    "\n",
    "X = tf.placeholder(tf.float32, [None, 2], name='x-input')\n",
    "Y = tf.placeholder(tf.float32, [None, 1], name='y-input')"
   ]
  },
  {
   "cell_type": "markdown",
   "metadata": {},
   "source": [
    "# Layer1"
   ]
  },
  {
   "cell_type": "code",
   "execution_count": 4,
   "metadata": {
    "collapsed": true
   },
   "outputs": [],
   "source": [
    "with tf.name_scope(\"layer1\") as scope:\n",
    "    W1 = tf.Variable(tf.random_normal([2, 2]), name='weight1')\n",
    "    b1 = tf.Variable(tf.random_normal([2]), name='bias1')\n",
    "    layer1 = tf.sigmoid(tf.matmul(X, W1) + b1)\n",
    "\n",
    "    w1_hist = tf.summary.histogram(\"weights1\", W1)\n",
    "    b1_hist = tf.summary.histogram(\"biases1\", b1)\n",
    "    layer1_hist = tf.summary.histogram(\"layer1\", layer1)"
   ]
  },
  {
   "cell_type": "markdown",
   "metadata": {},
   "source": [
    "# Layer2"
   ]
  },
  {
   "cell_type": "code",
   "execution_count": 5,
   "metadata": {
    "collapsed": true
   },
   "outputs": [],
   "source": [
    "with tf.name_scope(\"layer2\") as scope:\n",
    "    W2 = tf.Variable(tf.random_normal([2, 1]), name='weight2')\n",
    "    b2 = tf.Variable(tf.random_normal([1]), name='bias2')\n",
    "    hypothesis = tf.sigmoid(tf.matmul(layer1, W2) + b2)\n",
    "\n",
    "    w2_hist = tf.summary.histogram(\"weights2\", W2)\n",
    "    b2_hist = tf.summary.histogram(\"biases2\", b2)\n",
    "    hypothesis_hist = tf.summary.histogram(\"hypothesis\", hypothesis)"
   ]
  },
  {
   "cell_type": "markdown",
   "metadata": {},
   "source": [
    "# Cost/loss function"
   ]
  },
  {
   "cell_type": "code",
   "execution_count": 6,
   "metadata": {
    "collapsed": true
   },
   "outputs": [],
   "source": [
    "# cost/loss function\n",
    "with tf.name_scope(\"cost\") as scope:\n",
    "    cost = -tf.reduce_mean(Y * tf.log(hypothesis) + (1 - Y) *\n",
    "                           tf.log(1 - hypothesis))\n",
    "    cost_summ = tf.summary.scalar(\"cost\", cost)"
   ]
  },
  {
   "cell_type": "markdown",
   "metadata": {},
   "source": [
    "# Training"
   ]
  },
  {
   "cell_type": "code",
   "execution_count": 7,
   "metadata": {
    "collapsed": true
   },
   "outputs": [],
   "source": [
    "with tf.name_scope(\"train\") as scope:\n",
    "    train = tf.train.AdamOptimizer(learning_rate=learning_rate).minimize(cost)"
   ]
  },
  {
   "cell_type": "markdown",
   "metadata": {},
   "source": [
    "# Accuracy computation\n",
    ">  True if hypothesis > 0.5 else False"
   ]
  },
  {
   "cell_type": "code",
   "execution_count": null,
   "metadata": {
    "collapsed": true
   },
   "outputs": [],
   "source": [
    "# Accuracy computation\n",
    "# True if hypothesis>0.5 else False\n",
    "predicted = tf.cast(hypothesis > 0.5, dtype=tf.float32)\n",
    "accuracy = tf.reduce_mean(tf.cast(tf.equal(predicted, Y), dtype=tf.float32))\n",
    "accuracy_summ = tf.summary.scalar(\"accuracy\", accuracy)"
   ]
  },
  {
   "cell_type": "markdown",
   "metadata": {},
   "source": [
    "# Launch graph"
   ]
  },
  {
   "cell_type": "code",
   "execution_count": null,
   "metadata": {},
   "outputs": [
    {
     "name": "stdout",
     "output_type": "stream",
     "text": [
      "0 0.715638 [array([[ 0.79269594,  0.68861032],\n",
      "       [-1.20728338, -0.29517072]], dtype=float32), array([[ 1.7177    ],\n",
      "       [ 0.35572484]], dtype=float32)]\n",
      "100 0.690733 [array([[ 0.32268241, -0.23303069],\n",
      "       [-0.77434164,  0.80529422]], dtype=float32), array([[ 1.46081126],\n",
      "       [ 0.78415203]], dtype=float32)]\n",
      "200 0.495032 [array([[ 1.67216921, -2.3216548 ],\n",
      "       [-2.21686363,  2.656147  ]], dtype=float32), array([[ 2.82439113],\n",
      "       [ 2.60258126]], dtype=float32)]\n",
      "300 0.223746 [array([[ 3.18776298, -3.74428821],\n",
      "       [-3.69724321,  4.12956667]], dtype=float32), array([[ 4.70040798],\n",
      "       [ 4.31880617]], dtype=float32)]\n",
      "400 0.122295 [array([[ 3.98867273, -4.52083349],\n",
      "       [-4.4841404 ,  4.90343523]], dtype=float32), array([[ 5.8487258],\n",
      "       [ 5.4189949]], dtype=float32)]\n",
      "500 0.0788432 [array([[ 4.48614645, -5.01518679],\n",
      "       [-4.97325087,  5.39076948]], dtype=float32), array([[ 6.64474821],\n",
      "       [ 6.20202589]], dtype=float32)]\n",
      "600 0.0559812 [array([[ 4.83938599, -5.37066126],\n",
      "       [-5.32105875,  5.7398572 ]], dtype=float32), array([[ 7.25862885],\n",
      "       [ 6.81329823]], dtype=float32)]\n",
      "700 0.0422427 [array([[ 5.11104488, -5.64595747],\n",
      "       [-5.58890343,  6.00981092]], dtype=float32), array([[ 7.76264477],\n",
      "       [ 7.31833792]], dtype=float32)]\n",
      "800 0.0332273 [array([[ 5.33089542, -5.86969662],\n",
      "       [-5.80591345,  6.22909069]], dtype=float32), array([[ 8.19312191],\n",
      "       [ 7.75121689]], dtype=float32)]\n",
      "900 0.0269335 [array([[ 5.51517677, -6.05774879],\n",
      "       [-5.98799467,  6.41337395]], dtype=float32), array([[ 8.57083035],\n",
      "       [ 8.13182545]], dtype=float32)]\n",
      "1000 0.022334 [array([[ 5.67364979, -6.21975279],\n",
      "       [-6.14471054,  6.57215261]], dtype=float32), array([[ 8.90876007],\n",
      "       [ 8.4727869 ]], dtype=float32)]\n",
      "1100 0.0188525 [array([[ 5.81260777, -6.36198664],\n",
      "       [-6.28222895,  6.71158361]], dtype=float32), array([[ 9.21561146],\n",
      "       [ 8.78262043]], dtype=float32)]\n",
      "1200 0.0161428 [array([[ 5.93633652, -6.48873949],\n",
      "       [-6.40475273,  6.83587122]], dtype=float32), array([[ 9.49747658],\n",
      "       [ 9.06736851]], dtype=float32)]\n",
      "1300 0.0139857 [array([[ 6.04787445, -6.60307837],\n",
      "       [-6.51526976,  6.94801474]], dtype=float32), array([[ 9.75883579],\n",
      "       [ 9.33147717]], dtype=float32)]\n",
      "1400 0.012236 [array([[ 6.1494503 , -6.70725632],\n",
      "       [-6.61597157,  7.05021954]], dtype=float32), array([[ 10.00305462],\n",
      "       [  9.57830334]], dtype=float32)]\n",
      "1500 0.0107943 [array([[ 6.24275303, -6.8029747 ],\n",
      "       [-6.70851421,  7.14415741]], dtype=float32), array([[ 10.23274231],\n",
      "       [  9.81045437]], dtype=float32)]\n",
      "1600 0.00959032 [array([[ 6.32908058, -6.89155769],\n",
      "       [-6.79417372,  7.23111629]], dtype=float32), array([[ 10.44996071],\n",
      "       [ 10.02999973]], dtype=float32)]\n",
      "1700 0.00857318 [array([[ 6.40945625, -6.97404766],\n",
      "       [-6.87396002,  7.31211519]], dtype=float32), array([[ 10.65636539],\n",
      "       [ 10.23861217]], dtype=float32)]\n",
      "1800 0.00770517 [array([[ 6.48469973, -7.05127716],\n",
      "       [-6.94868088,  7.38797235]], dtype=float32), array([[ 10.85331535],\n",
      "       [ 10.43765163]], dtype=float32)]\n",
      "1900 0.00695786 [array([[ 6.55548048, -7.12392998],\n",
      "       [-7.01899099,  7.45935011]], dtype=float32), array([[ 11.04193211],\n",
      "       [ 10.62824631]], dtype=float32)]\n",
      "2000 0.00630939 [array([[ 6.62234497, -7.19256639],\n",
      "       [-7.08543205,  7.52679729]], dtype=float32), array([[ 11.22315598],\n",
      "       [ 10.81134701]], dtype=float32)]\n",
      "2100 0.00574271 [array([[ 6.68574953, -7.25765228],\n",
      "       [-7.14845371,  7.59076881]], dtype=float32), array([[ 11.39778233],\n",
      "       [ 10.98776436]], dtype=float32)]\n",
      "2200 0.00524449 [array([[ 6.74607801, -7.31957722],\n",
      "       [-7.20843363,  7.65165138]], dtype=float32), array([[ 11.56649017],\n",
      "       [ 11.15817833]], dtype=float32)]\n",
      "2300 0.0048039 [array([[ 6.80365419, -7.37867737],\n",
      "       [-7.26569319,  7.70976782]], dtype=float32), array([[ 11.72986698],\n",
      "       [ 11.32318687]], dtype=float32)]\n",
      "2400 0.00441234 [array([[ 6.85876036, -7.43523693],\n",
      "       [-7.32050467,  7.76539803]], dtype=float32), array([[ 11.8884182 ],\n",
      "       [ 11.48329544]], dtype=float32)]\n",
      "2500 0.00406272 [array([[ 6.91163111, -7.48950243],\n",
      "       [-7.37310982,  7.81878185]], dtype=float32), array([[ 12.04259109],\n",
      "       [ 11.6389637 ]], dtype=float32)]\n",
      "2600 0.00374917 [array([[ 6.96247816, -7.54168367],\n",
      "       [-7.42370987,  7.8701272 ]], dtype=float32), array([[ 12.19276905],\n",
      "       [ 11.79058075]], dtype=float32)]\n",
      "2700 0.00346698 [array([[ 7.01147985, -7.59197092],\n",
      "       [-7.47248554,  7.91961718]], dtype=float32), array([[ 12.33930111],\n",
      "       [ 11.9384985 ]], dtype=float32)]\n",
      "2800 0.00321206 [array([[ 7.05879593, -7.64052582],\n",
      "       [-7.51959324,  7.96741152]], dtype=float32), array([[ 12.4824934 ],\n",
      "       [ 12.08301926]], dtype=float32)]\n",
      "2900 0.002981 [array([[ 7.10456848, -7.68749142],\n",
      "       [-7.5651722 ,  8.01364899]], dtype=float32), array([[ 12.62261105],\n",
      "       [ 12.22442722]], dtype=float32)]\n",
      "3000 0.00277098 [array([[ 7.14892006, -7.73299503],\n",
      "       [-7.60934496,  8.05845451]], dtype=float32), array([[ 12.75990582],\n",
      "       [ 12.36296463]], dtype=float32)]\n",
      "3100 0.00257957 [array([[ 7.19196272, -7.77715158],\n",
      "       [-7.65221882,  8.10194206]], dtype=float32), array([[ 12.89458942],\n",
      "       [ 12.49885368]], dtype=float32)]\n",
      "3200 0.00240461 [array([[ 7.2337923 , -7.82005978],\n",
      "       [-7.69389296,  8.14420605]], dtype=float32), array([[ 13.02686214],\n",
      "       [ 12.63229847]], dtype=float32)]\n",
      "3300 0.00224431 [array([[ 7.27449942, -7.86181307],\n",
      "       [-7.73445463,  8.18533897]], dtype=float32), array([[ 13.15690517],\n",
      "       [ 12.76347065]], dtype=float32)]\n",
      "3400 0.00209714 [array([[ 7.31416225, -7.90249252],\n",
      "       [-7.77398205,  8.22541904]], dtype=float32), array([[ 13.28487682],\n",
      "       [ 12.89254189]], dtype=float32)]\n",
      "3500 0.00196177 [array([[ 7.35285234, -7.94217205],\n",
      "       [-7.81254578,  8.26452065]], dtype=float32), array([[ 13.41092491],\n",
      "       [ 13.01966095]], dtype=float32)]\n",
      "3600 0.00183697 [array([[ 7.39063692, -7.98091555],\n",
      "       [-7.85020971,  8.30270481]], dtype=float32), array([[ 13.53518677],\n",
      "       [ 13.14496136]], dtype=float32)]\n",
      "3700 0.00172173 [array([[ 7.42757082, -8.01878643],\n",
      "       [-7.88703346,  8.34003353]], dtype=float32), array([[ 13.65778446],\n",
      "       [ 13.26856995]], dtype=float32)]\n"
     ]
    }
   ],
   "source": [
    "# Launch graph\n",
    "with tf.Session() as sess:\n",
    "    # tensorboard --logdir=./logs/xor_logs\n",
    "    merged_summary = tf.summary.merge_all()\n",
    "    writer = tf.summary.FileWriter(\"./logs/xor_logs_r0_01\")\n",
    "    writer.add_graph(sess.graph)  # Show the graph\n",
    "\n",
    "    # Initialize TensorFlow variables\n",
    "    sess.run(tf.global_variables_initializer())\n",
    "\n",
    "    for step in range(10001):\n",
    "        summary, _ = sess.run([merged_summary, train], feed_dict={X: x_data, Y: y_data})\n",
    "        writer.add_summary(summary, global_step=step)\n",
    "\n",
    "        if step % 100 == 0:\n",
    "            print(step, sess.run(cost, feed_dict={\n",
    "                  X: x_data, Y: y_data}), sess.run([W1, W2]))\n",
    "\n",
    "    # Accuracy report\n",
    "    h, c, a = sess.run([hypothesis, predicted, accuracy],\n",
    "                       feed_dict={X: x_data, Y: y_data})\n",
    "    print(\"\\nHypothesis: \", h, \"\\nCorrect: \", c, \"\\nAccuracy: \", a)\n",
    "\n",
    "\n",
    "'''\n",
    "Hypothesis:  [[ 0.01338218]\n",
    " [ 0.98166394]\n",
    " [ 0.98809403]\n",
    " [ 0.01135799]]\n",
    "Correct:  [[ 0.]\n",
    " [ 1.]\n",
    " [ 1.]\n",
    " [ 0.]]\n",
    "Accuracy:  1.0\n",
    "'''"
   ]
  }
 ],
 "metadata": {
  "kernelspec": {
   "display_name": "Python 3",
   "language": "python",
   "name": "python3"
  },
  "language_info": {
   "codemirror_mode": {
    "name": "ipython",
    "version": 3.0
   },
   "file_extension": ".py",
   "mimetype": "text/x-python",
   "name": "python",
   "nbconvert_exporter": "python",
   "pygments_lexer": "ipython3",
   "version": "3.5.3"
  }
 },
 "nbformat": 4,
 "nbformat_minor": 0
}