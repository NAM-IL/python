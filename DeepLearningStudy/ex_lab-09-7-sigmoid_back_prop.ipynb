{
 "cells": [
  {
   "cell_type": "markdown",
   "metadata": {},
   "source": [
    "# ex_lab-09-7-sigmoid_back_prop\n",
    "\n",
    "LaTeX:\n",
    "  \\begin{align}\n",
    "    E_0 &= mc^2                              \\\\\n",
    "    E &= \\frac{mc^2}{\\sqrt{1-\\frac{v^2}{c^2}}} \\\\\n",
    "    A_0 \\\\\n",
    "    \\TeX\\\n",
    "  \\end{align}\n",
    "  "
   ]
  },
  {
   "cell_type": "markdown",
   "metadata": {},
   "source": [
    " \n",
    "In this file, we will implement back propagations by hands\n",
    "We will use the Sigmoid Cross Entropy loss function.\n",
    "This is equivalent to tf.nn.sigmoid_softmax_with_logits(logits, labels)\n",
    "\n",
    "# [References]\n",
    "> 1. [Tensorflow Document (tf.nn.sigmoid_softmax_with_logits)](https://www.tensorflow.org/api_docs/python/tf/nn/sigmoid_cross_entropy_with_logits)\n",
    "> 2. [Neural Net Backprop in one slide! by Sung Kim](https://docs.google.com/presentation/d/1_ZmtfEjLmhbuM_PqbDYMXXLAqeWN0HwuhcSKnUQZ6MM/edit#slide=id.g1ec1d04b5a_1_83)\n",
    "> 3. [Back Propagation with Tensorflow by Dan Aloni](http://blog.aloni.org/posts/backprop-with-tensorflow/)\n",
    "> 4. [Yes you should understand backprop by Andrej Karpathy](https://medium.com/@karpathy/yes-you-should-understand-backprop-e2f06eab496b#.cockptkn7)\n",
    "\n",
    "# [Network Architecture]\n",
    "\n",
    "\\begin{align}\n",
    " Input: x \\\\\n",
    " Layer1: {x } W + b \\\\\n",
    " Output\\ layer = σ(Layer1) \\\\\n",
    " Loss\\_i &= - y * log(σ(Layer1)) - (1 - y) * log(1 - σ(Layer1)) \\\\\n",
    " Loss &= tf.reduce\\_sum(Loss\\_i)\n",
    " \\end{align}\n",
    " \n",
    " We want to compute that  \n",
    " \\begin{align}\n",
    " \\frac{dLoss}{dW} &= ??? \\\\\n",
    " \\frac{dLoss}{db} &= ??? \\\\\n",
    "  \\end{align}  \n",
    " please read \"Neural Net Backprop in one slide!\" for deriving formulas\n",
    "\n",
    " \n",
    " \n"
   ]
  },
  {
   "cell_type": "code",
   "execution_count": 16,
   "metadata": {},
   "outputs": [
    {
     "name": "stdout",
     "output_type": "stream",
     "text": [
      "tensorflow version: 1.2.0\n",
      "numpy version: 1.13.0\n"
     ]
    }
   ],
   "source": [
    "import os\n",
    "# silence INFO logs set it to 1\n",
    "# filter out WARNING set it to 2 \n",
    "# silence ERROR logs (not recommended) set it to 3\n",
    "os.environ['TF_CPP_MIN_LOG_LEVEL'] = '2'\n",
    "\n",
    "import tensorflow as tf\n",
    "import numpy as np\n",
    "\n",
    "print('tensorflow version: {0}'.format(tf.__version__))\n",
    "print('numpy version: {0}'.format(np.__version__))"
   ]
  },
  {
   "cell_type": "markdown",
   "metadata": {},
   "source": [
    "# for reproducibility"
   ]
  },
  {
   "cell_type": "code",
   "execution_count": 17,
   "metadata": {
    "collapsed": true
   },
   "outputs": [],
   "source": [
    "tf.set_random_seed(777)  # for reproducibility\n"
   ]
  },
  {
   "cell_type": "markdown",
   "metadata": {},
   "source": [
    "# Predicting animal type based on various features"
   ]
  },
  {
   "cell_type": "code",
   "execution_count": 18,
   "metadata": {
    "collapsed": true
   },
   "outputs": [],
   "source": [
    "# Predicting animal type based on various features\n",
    "xy = np.loadtxt('./data_file/data-04-zoo.csv', delimiter=',', dtype=np.float32)\n",
    "X_data = xy[:, 0:-1]\n",
    "N = X_data.shape[0]\n",
    "y_data = xy[:, [-1]]\n",
    "\n"
   ]
  },
  {
   "cell_type": "markdown",
   "metadata": {},
   "source": [
    "# y_data has labels from 0 ~ 6"
   ]
  },
  {
   "cell_type": "code",
   "execution_count": 19,
   "metadata": {},
   "outputs": [
    {
     "name": "stdout",
     "output_type": "stream",
     "text": [
      "y has one of the following values\n",
      "[ 0.  1.  2.  3.  4.  5.  6.]\n"
     ]
    }
   ],
   "source": [
    "# y_data has labels from 0 ~ 6\n",
    "print(\"y has one of the following values\")\n",
    "print(np.unique(y_data))\n",
    "\n"
   ]
  },
  {
   "cell_type": "markdown",
   "metadata": {},
   "source": [
    "#  X_data.shape , y_data.shape\n",
    "> X_data.shape = (101, 16) => 101 samples, 16 features <br />\n",
    "> y_data.shape = (101, 1)  => 101 samples, 1 label"
   ]
  },
  {
   "cell_type": "code",
   "execution_count": 20,
   "metadata": {},
   "outputs": [
    {
     "name": "stdout",
     "output_type": "stream",
     "text": [
      "Shape of X data:  (101, 16)\n",
      "Shape of y data:  (101, 1)\n"
     ]
    }
   ],
   "source": [
    "# X_data.shape = (101, 16) => 101 samples, 16 features\n",
    "# y_data.shape = (101, 1)  => 101 samples, 1 label\n",
    "print(\"Shape of X data: \", X_data.shape)\n",
    "print(\"Shape of y data: \", y_data.shape)\n",
    "\n"
   ]
  },
  {
   "cell_type": "markdown",
   "metadata": {},
   "source": [
    "# Init. variables"
   ]
  },
  {
   "cell_type": "code",
   "execution_count": 21,
   "metadata": {
    "collapsed": true
   },
   "outputs": [],
   "source": [
    "nb_classes = 7  # 0 ~ 6\n",
    "\n",
    "X = tf.placeholder(tf.float32, [None, 16])\n",
    "y = tf.placeholder(tf.int32, [None, 1])  # 0 ~ 6\n",
    "\n",
    "target = tf.one_hot(y, nb_classes)  # one hot\n",
    "target = tf.reshape(target, [-1, nb_classes])\n",
    "target = tf.cast(target, tf.float32)\n",
    "\n",
    "W = tf.Variable(tf.random_normal([16, nb_classes]), name='weight')\n",
    "b = tf.Variable(tf.random_normal([nb_classes]), name='bias')\n",
    "\n",
    "\n"
   ]
  },
  {
   "cell_type": "markdown",
   "metadata": {},
   "source": [
    "# sigma Function\n",
    ">  sigmoid function <br />\n",
    "> σ(x) = 1 / (1 + exp(-x))"
   ]
  },
  {
   "cell_type": "code",
   "execution_count": 22,
   "metadata": {
    "collapsed": true
   },
   "outputs": [],
   "source": [
    "def sigma(x):\n",
    "    # sigmoid function\n",
    "    # σ(x) = 1 / (1 + exp(-x))\n",
    "    return 1. / (1. + tf.exp(-x))\n",
    "\n"
   ]
  },
  {
   "cell_type": "markdown",
   "metadata": {},
   "source": [
    "# sigma_prime Function:\n",
    "> derivative of the sigmoid function <br />\n",
    "> σ'(x) = σ(x) * (1 - σ(x))"
   ]
  },
  {
   "cell_type": "code",
   "execution_count": 23,
   "metadata": {
    "collapsed": true
   },
   "outputs": [],
   "source": [
    "def sigma_prime(x):\n",
    "    # derivative of the sigmoid function\n",
    "    # σ'(x) = σ(x) * (1 - σ(x))\n",
    "    return sigma(x) * (1. - sigma(x))\n",
    "\n"
   ]
  },
  {
   "cell_type": "markdown",
   "metadata": {},
   "source": [
    "# Forward propagtion"
   ]
  },
  {
   "cell_type": "code",
   "execution_count": 24,
   "metadata": {
    "collapsed": true
   },
   "outputs": [],
   "source": [
    "# Forward propagtion\n",
    "layer_1 = tf.matmul(X, W) + b\n",
    "y_pred = sigma(layer_1)\n",
    "\n"
   ]
  },
  {
   "cell_type": "markdown",
   "metadata": {},
   "source": [
    "# Loss Function (end of forwad propagation)"
   ]
  },
  {
   "cell_type": "code",
   "execution_count": 25,
   "metadata": {
    "collapsed": true
   },
   "outputs": [],
   "source": [
    "# Loss Function (end of forwad propagation)\n",
    "loss_i = - target * tf.log(y_pred) - (1. - target) * tf.log(1. - y_pred)\n",
    "loss = tf.reduce_sum(loss_i)\n",
    "\n"
   ]
  },
  {
   "cell_type": "markdown",
   "metadata": {},
   "source": [
    "# Dimension Check"
   ]
  },
  {
   "cell_type": "code",
   "execution_count": 26,
   "metadata": {
    "collapsed": true
   },
   "outputs": [],
   "source": [
    "# Dimension Check\n",
    "assert y_pred.shape.as_list() == target.shape.as_list()\n",
    "\n",
    "\n"
   ]
  },
  {
   "cell_type": "markdown",
   "metadata": {},
   "source": [
    "# Back prop (chain rule)\n",
    "## How to derive? please read \"Neural Net Backprop in one slide!\""
   ]
  },
  {
   "cell_type": "code",
   "execution_count": 27,
   "metadata": {
    "collapsed": true
   },
   "outputs": [],
   "source": [
    "# Back prop (chain rule)\n",
    "# How to derive? please read \"Neural Net Backprop in one slide!\"\n",
    "d_loss = (y_pred - target) / (y_pred * (1. - y_pred) + 1e-7)\n",
    "d_sigma = sigma_prime(layer_1)\n",
    "d_layer = d_loss * d_sigma\n",
    "d_b = d_layer\n",
    "d_W = tf.matmul(tf.transpose(X), d_layer)\n",
    "\n"
   ]
  },
  {
   "cell_type": "markdown",
   "metadata": {},
   "source": [
    "# Updating network using gradients"
   ]
  },
  {
   "cell_type": "code",
   "execution_count": 28,
   "metadata": {
    "collapsed": true
   },
   "outputs": [],
   "source": [
    "# Updating network using gradients\n",
    "learning_rate = 0.01\n",
    "train_step = [\n",
    "    tf.assign(W, W - learning_rate * d_W),\n",
    "    tf.assign(b, b - learning_rate * tf.reduce_sum(d_b)),\n",
    "]\n",
    "\n"
   ]
  },
  {
   "cell_type": "markdown",
   "metadata": {},
   "source": [
    "# Prediction and Accuracy"
   ]
  },
  {
   "cell_type": "code",
   "execution_count": null,
   "metadata": {
    "collapsed": true
   },
   "outputs": [],
   "source": [
    "# Prediction and Accuracy\n",
    "prediction = tf.argmax(y_pred, 1)\n",
    "acct_mat = tf.equal(tf.argmax(y_pred, 1), tf.argmax(target, 1))\n",
    "acct_res = tf.reduce_mean(tf.cast(acct_mat, tf.float32))\n",
    "\n"
   ]
  },
  {
   "cell_type": "markdown",
   "metadata": {},
   "source": [
    "# Launch graph"
   ]
  },
  {
   "cell_type": "code",
   "execution_count": null,
   "metadata": {},
   "outputs": [],
   "source": [
    "# Launch graph\n",
    "with tf.Session() as sess:\n",
    "    sess.run(tf.global_variables_initializer())\n",
    "\n",
    "    for step in range(500):\n",
    "        sess.run(train_step, feed_dict={X: X_data, y: y_data})\n",
    "\n",
    "        if step % 10 == 0:\n",
    "            # Within 300 steps, you should see an accuracy of 100%\n",
    "            step_loss, acc = sess.run([loss, acct_res], feed_dict={\n",
    "                                      X: X_data, y: y_data})\n",
    "            print(\"Step: {:5}\\t Loss: {:10.5f}\\t Acc: {:.2%}\" .format(\n",
    "                step, step_loss, acc))\n",
    "\n",
    "    # Let's see if we can predict\n",
    "    pred = sess.run(prediction, feed_dict={X: X_data})\n",
    "    for p, y in zip(pred, y_data):\n",
    "        msg = \"[{}]\\t Prediction: {:d}\\t True y: {:d}\"\n",
    "        print(msg.format(p == int(y[0]), p, int(y[0])))\n",
    "\n",
    "\"\"\"\n",
    "Output Example\n",
    "\n",
    "Step:     0      Loss:  453.74799        Acc: 38.61%\n",
    "Step:    20      Loss:   95.05664        Acc: 88.12%\n",
    "Step:    40      Loss:   66.43570        Acc: 93.07%\n",
    "Step:    60      Loss:   53.09288        Acc: 94.06%\n",
    "...\n",
    "Step:   290      Loss:   18.72972        Acc: 100.00%\n",
    "Step:   300      Loss:   18.24953        Acc: 100.00%\n",
    "Step:   310      Loss:   17.79592        Acc: 100.00%\n",
    "...\n",
    "[True]   Prediction: 0   True y: 0\n",
    "[True]   Prediction: 0   True y: 0\n",
    "[True]   Prediction: 3   True y: 3\n",
    "[True]   Prediction: 0   True y: 0\n",
    "...\n",
    "\"\"\"\n"
   ]
  }
 ],
 "metadata": {
  "celltoolbar": "Edit Metadata",
  "kernelspec": {
   "display_name": "Python 3",
   "language": "python",
   "name": "python3"
  },
  "language_info": {
   "codemirror_mode": {
    "name": "ipython",
    "version": 3
   },
   "file_extension": ".py",
   "mimetype": "text/x-python",
   "name": "python",
   "nbconvert_exporter": "python",
   "pygments_lexer": "ipython3",
   "version": "3.5.3"
  }
 },
 "nbformat": 4,
 "nbformat_minor": 2
}
