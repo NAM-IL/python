{
 "cells": [
  {
   "cell_type": "markdown",
   "metadata": {},
   "source": [
    "# Tensor Manipulation"
   ]
  },
  {
   "cell_type": "code",
   "execution_count": null,
   "metadata": {
    "collapsed": true
   },
   "outputs": [],
   "source": [
    "# https://www.tensorflow.org/api_guides/python/array_ops\n",
    "import tensorflow as tf\n",
    "import numpy as np\n",
    "import pprint\n",
    "tf.set_random_seed(777)  # for reproducibility\n",
    "\n",
    "pp = pprint.PrettyPrinter(indent=4)\n",
    "sess = tf.InteractiveSession()"
   ]
  },
  {
   "cell_type": "code",
   "execution_count": 169,
   "metadata": {},
   "outputs": [
    {
     "name": "stdout",
     "output_type": "stream",
     "text": [
      "tensorflow version:1.2.0\n",
      "tensorflow version:1.2.0\n"
     ]
    }
   ],
   "source": [
    "# tensorflow version:\n",
    "print('tensorflow version:{0}'.format(tf.__version__))\n",
    "print('tensorflow version:%s' % tf.__version__)"
   ]
  },
  {
   "cell_type": "code",
   "execution_count": 170,
   "metadata": {},
   "outputs": [
    {
     "name": "stdout",
     "output_type": "stream",
     "text": [
      "numpy version:1.13.0\n",
      "numpy version:1.13.0\n"
     ]
    }
   ],
   "source": [
    "# numpy version:\n",
    "print('numpy version:{0}'.format(np.__version__))\n",
    "print('numpy version:%s' % np.__version__)"
   ]
  },
  {
   "cell_type": "markdown",
   "metadata": {},
   "source": [
    "## Simple Array"
   ]
  },
  {
   "cell_type": "code",
   "execution_count": 171,
   "metadata": {},
   "outputs": [
    {
     "name": "stdout",
     "output_type": "stream",
     "text": [
      "array([ 0.,  1.,  2.,  3.,  4.,  5.,  6.])\n",
      "1\n",
      "(7,)\n",
      "0.0 1.0 6.0\n",
      "[ 2.  3.  4.] [ 4.  5.]\n",
      "[ 0.  1.] [ 3.  4.  5.  6.]\n"
     ]
    }
   ],
   "source": [
    "t = np.array([0., 1., 2., 3., 4., 5., 6.])\n",
    "\n",
    "pp.pprint(t)\n",
    "print(t.ndim) # rank\n",
    "\n",
    "# t.shape는 튜플로 반환\n",
    "# 1차원 배열이라도 다차원 배열일 때와 통일된 형태로 결과를 반환하기 위함\n",
    "print(t.shape) # shape\n",
    "print(t[0], t[1], t[-1])\n",
    "print(t[2:5], t[4:-1])\n",
    "print(t[:2], t[3:])"
   ]
  },
  {
   "cell_type": "markdown",
   "metadata": {},
   "source": [
    "# 2D Array"
   ]
  },
  {
   "cell_type": "code",
   "execution_count": 172,
   "metadata": {},
   "outputs": [
    {
     "name": "stdout",
     "output_type": "stream",
     "text": [
      "array([[  1.,   2.,   3.],\n",
      "       [  4.,   5.,   6.],\n",
      "       [  7.,   8.,   9.],\n",
      "       [ 10.,  11.,  12.]])\n",
      "2\n",
      "(4, 3)\n"
     ]
    }
   ],
   "source": [
    "t = np.array([[1., 2., 3.], [4., 5., 6.], [7., 8., 9.], [10., 11., 12.]])\n",
    "pp.pprint(t)\n",
    "print(t.ndim) # rank\n",
    "print(t.shape) # shape"
   ]
  },
  {
   "cell_type": "markdown",
   "metadata": {},
   "source": [
    "## Shape, Rank, Axis"
   ]
  },
  {
   "cell_type": "code",
   "execution_count": 173,
   "metadata": {},
   "outputs": [
    {
     "name": "stdout",
     "output_type": "stream",
     "text": [
      "t : \n",
      " [4]\n"
     ]
    },
    {
     "data": {
      "text/plain": [
       "array([4], dtype=int32)"
      ]
     },
     "execution_count": 173,
     "metadata": {},
     "output_type": "execute_result"
    }
   ],
   "source": [
    "t = tf.constant([1,2,3,4])\n",
    "\n",
    "print('t : \\n {0}'.format(tf.shape(t).eval()))\n",
    "tf.shape(t).eval()"
   ]
  },
  {
   "cell_type": "code",
   "execution_count": 174,
   "metadata": {},
   "outputs": [
    {
     "name": "stdout",
     "output_type": "stream",
     "text": [
      "t : \n",
      " [2 2]\n"
     ]
    },
    {
     "data": {
      "text/plain": [
       "array([2, 2], dtype=int32)"
      ]
     },
     "execution_count": 174,
     "metadata": {},
     "output_type": "execute_result"
    }
   ],
   "source": [
    "t = tf.constant([[1,2],\n",
    "                 [3,4]])\n",
    "\n",
    "print('t : \\n {0}'.format(tf.shape(t).eval()))\n",
    "tf.shape(t).eval()"
   ]
  },
  {
   "cell_type": "code",
   "execution_count": 175,
   "metadata": {},
   "outputs": [
    {
     "name": "stdout",
     "output_type": "stream",
     "text": [
      "t : \n",
      " [1 2 3 4]\n"
     ]
    },
    {
     "data": {
      "text/plain": [
       "array([1, 2, 3, 4], dtype=int32)"
      ]
     },
     "execution_count": 175,
     "metadata": {},
     "output_type": "execute_result"
    }
   ],
   "source": [
    "t = tf.constant([[[[1, 2, 3, 4], [5, 6, 7, 8], [9, 10, 11, 12]],[[13, 14, 15, 16], [17, 18, 19, 20], [21, 22, 23, 24]]]])\n",
    "\n",
    "print('t : \\n {0}'.format(tf.shape(t).eval()))\n",
    "tf.shape(t).eval()"
   ]
  },
  {
   "cell_type": "code",
   "execution_count": 176,
   "metadata": {},
   "outputs": [
    {
     "name": "stdout",
     "output_type": "stream",
     "text": [
      "[   [   [[1, 2, 3, 4], [5, 6, 7, 8], [9, 10, 11, 12]],\n",
      "        [[13, 14, 15, 16], [17, 18, 19, 20], [21, 22, 23, 24]]]]\n",
      "t : \n",
      " 4\n",
      "t : \n",
      " [1 2 3 4]\n"
     ]
    }
   ],
   "source": [
    "t = [\n",
    "    [\n",
    "        [\n",
    "            [1,2,3,4], \n",
    "            [5,6,7,8],\n",
    "            [9,10,11,12]\n",
    "        ],\n",
    "        [\n",
    "            [13,14,15,16],\n",
    "            [17,18,19,20], \n",
    "            [21,22,23,24]\n",
    "        ]\n",
    "    ]\n",
    "]\n",
    "\n",
    "pp.pprint(t)\n",
    "print('t : \\n {0}'.format(tf.rank(t).eval()))\n",
    "print('t : \\n {0}'.format(tf.shape(t).eval()))"
   ]
  },
  {
   "cell_type": "markdown",
   "metadata": {},
   "source": [
    "## Matmul VS multiply"
   ]
  },
  {
   "cell_type": "code",
   "execution_count": 177,
   "metadata": {},
   "outputs": [
    {
     "data": {
      "text/plain": [
       "array([[ 12.]], dtype=float32)"
      ]
     },
     "execution_count": 177,
     "metadata": {},
     "output_type": "execute_result"
    }
   ],
   "source": [
    "matrix1 = tf.constant([[3., 3.]])\n",
    "matrix2 = tf.constant([[2.],[2.]])\n",
    "tf.matmul(matrix1, matrix2).eval()"
   ]
  },
  {
   "cell_type": "code",
   "execution_count": 178,
   "metadata": {},
   "outputs": [
    {
     "data": {
      "text/plain": [
       "array([[ 6.,  6.],\n",
       "       [ 6.,  6.]], dtype=float32)"
      ]
     },
     "execution_count": 178,
     "metadata": {},
     "output_type": "execute_result"
    }
   ],
   "source": [
    "(matrix1*matrix2).eval()"
   ]
  },
  {
   "cell_type": "markdown",
   "metadata": {},
   "source": [
    "## Watch out broadcasting"
   ]
  },
  {
   "cell_type": "code",
   "execution_count": 179,
   "metadata": {},
   "outputs": [
    {
     "name": "stdout",
     "output_type": "stream",
     "text": [
      "matrix1 : \n",
      " [[ 3.  3.]]\n",
      "matrix2 : \n",
      " [[ 2.]\n",
      " [ 2.]]\n",
      "matrix1+matrix2 : \n",
      " [[ 5.  5.]\n",
      " [ 5.  5.]]\n"
     ]
    },
    {
     "data": {
      "text/plain": [
       "array([[ 5.,  5.],\n",
       "       [ 5.,  5.]], dtype=float32)"
      ]
     },
     "execution_count": 179,
     "metadata": {},
     "output_type": "execute_result"
    }
   ],
   "source": [
    "matrix1 = tf.constant([[3., 3.]])\n",
    "matrix2 = tf.constant([[2.],[2.]])\n",
    "print('matrix1 : \\n {0}'.format(matrix1.eval()))\n",
    "print('matrix2 : \\n {0}'.format(matrix2.eval()))\n",
    "print('matrix1+matrix2 : \\n {0}'.format((matrix1+matrix2).eval()))\n",
    "(matrix1+matrix2).eval()"
   ]
  },
  {
   "cell_type": "code",
   "execution_count": 180,
   "metadata": {},
   "outputs": [
    {
     "data": {
      "text/plain": [
       "array([[ 5.,  5.]], dtype=float32)"
      ]
     },
     "execution_count": 180,
     "metadata": {},
     "output_type": "execute_result"
    }
   ],
   "source": [
    "matrix1 = tf.constant([[3., 3.]])\n",
    "matrix2 = tf.constant([[2., 2.]])\n",
    "(matrix1+matrix2).eval()"
   ]
  },
  {
   "cell_type": "markdown",
   "metadata": {},
   "source": [
    "## Random values for variable initializations "
   ]
  },
  {
   "cell_type": "code",
   "execution_count": 181,
   "metadata": {
    "scrolled": true
   },
   "outputs": [
    {
     "data": {
      "text/plain": [
       "array([ 0.45671603, -0.85167176, -1.58440542], dtype=float32)"
      ]
     },
     "execution_count": 181,
     "metadata": {},
     "output_type": "execute_result"
    }
   ],
   "source": [
    "tf.random_normal([3]).eval()"
   ]
  },
  {
   "cell_type": "code",
   "execution_count": 182,
   "metadata": {},
   "outputs": [
    {
     "data": {
      "text/plain": [
       "array([ 0.52622795,  0.80072713], dtype=float32)"
      ]
     },
     "execution_count": 182,
     "metadata": {},
     "output_type": "execute_result"
    }
   ],
   "source": [
    "tf.random_uniform([2]).eval()"
   ]
  },
  {
   "cell_type": "code",
   "execution_count": 183,
   "metadata": {},
   "outputs": [
    {
     "data": {
      "text/plain": [
       "array([[ 0.16610169,  0.40050089,  0.46731901],\n",
       "       [ 0.68413329,  0.01460004,  0.55141699]], dtype=float32)"
      ]
     },
     "execution_count": 183,
     "metadata": {},
     "output_type": "execute_result"
    }
   ],
   "source": [
    "tf.random_uniform([2, 3]).eval()"
   ]
  },
  {
   "cell_type": "markdown",
   "metadata": {},
   "source": [
    "## [ Reduce Mean/Sum ]"
   ]
  },
  {
   "cell_type": "code",
   "execution_count": 184,
   "metadata": {},
   "outputs": [
    {
     "data": {
      "text/plain": [
       "1"
      ]
     },
     "execution_count": 184,
     "metadata": {},
     "output_type": "execute_result"
    }
   ],
   "source": [
    "tf.reduce_mean([1, 2], axis=0).eval()"
   ]
  },
  {
   "cell_type": "code",
   "execution_count": 185,
   "metadata": {},
   "outputs": [
    {
     "data": {
      "text/plain": [
       "2.5"
      ]
     },
     "execution_count": 185,
     "metadata": {},
     "output_type": "execute_result"
    }
   ],
   "source": [
    "x = [[1., 2.],\n",
    "     [3., 4.]]\n",
    "\n",
    "\n",
    "tf.reduce_mean(x).eval()"
   ]
  },
  {
   "cell_type": "code",
   "execution_count": 186,
   "metadata": {},
   "outputs": [
    {
     "data": {
      "text/plain": [
       "array([ 2.,  3.], dtype=float32)"
      ]
     },
     "execution_count": 186,
     "metadata": {},
     "output_type": "execute_result"
    }
   ],
   "source": [
    "tf.reduce_mean(x, axis=0).eval()"
   ]
  },
  {
   "cell_type": "code",
   "execution_count": 187,
   "metadata": {},
   "outputs": [
    {
     "data": {
      "text/plain": [
       "array([ 1.5,  3.5], dtype=float32)"
      ]
     },
     "execution_count": 187,
     "metadata": {},
     "output_type": "execute_result"
    }
   ],
   "source": [
    "tf.reduce_mean(x, axis=1).eval()"
   ]
  },
  {
   "cell_type": "code",
   "execution_count": 188,
   "metadata": {},
   "outputs": [
    {
     "data": {
      "text/plain": [
       "array([ 1.5,  3.5], dtype=float32)"
      ]
     },
     "execution_count": 188,
     "metadata": {},
     "output_type": "execute_result"
    }
   ],
   "source": [
    "tf.reduce_mean(x, axis=-1).eval()"
   ]
  },
  {
   "cell_type": "code",
   "execution_count": 189,
   "metadata": {
    "collapsed": true
   },
   "outputs": [],
   "source": [
    "x = [[1., 2.],\n",
    "     [3., 4.]]"
   ]
  },
  {
   "cell_type": "code",
   "execution_count": 190,
   "metadata": {},
   "outputs": [
    {
     "data": {
      "text/plain": [
       "10.0"
      ]
     },
     "execution_count": 190,
     "metadata": {},
     "output_type": "execute_result"
    }
   ],
   "source": [
    "tf.reduce_sum(x).eval()"
   ]
  },
  {
   "cell_type": "code",
   "execution_count": 191,
   "metadata": {},
   "outputs": [
    {
     "data": {
      "text/plain": [
       "array([ 4.,  6.], dtype=float32)"
      ]
     },
     "execution_count": 191,
     "metadata": {},
     "output_type": "execute_result"
    }
   ],
   "source": [
    "tf.reduce_sum(x, axis=0).eval()"
   ]
  },
  {
   "cell_type": "code",
   "execution_count": 192,
   "metadata": {},
   "outputs": [
    {
     "data": {
      "text/plain": [
       "array([ 3.,  7.], dtype=float32)"
      ]
     },
     "execution_count": 192,
     "metadata": {},
     "output_type": "execute_result"
    }
   ],
   "source": [
    "tf.reduce_sum(x, axis=1).eval()"
   ]
  },
  {
   "cell_type": "code",
   "execution_count": 193,
   "metadata": {},
   "outputs": [
    {
     "data": {
      "text/plain": [
       "array([ 3.,  7.], dtype=float32)"
      ]
     },
     "execution_count": 193,
     "metadata": {},
     "output_type": "execute_result"
    }
   ],
   "source": [
    "tf.reduce_sum(x, axis=-1).eval()"
   ]
  },
  {
   "cell_type": "code",
   "execution_count": 194,
   "metadata": {},
   "outputs": [
    {
     "data": {
      "text/plain": [
       "5.0"
      ]
     },
     "execution_count": 194,
     "metadata": {},
     "output_type": "execute_result"
    }
   ],
   "source": [
    "tf.reduce_mean(tf.reduce_sum(x, axis=-1)).eval()"
   ]
  },
  {
   "cell_type": "markdown",
   "metadata": {},
   "source": [
    "## Argmax with axis"
   ]
  },
  {
   "cell_type": "code",
   "execution_count": 195,
   "metadata": {
    "collapsed": true
   },
   "outputs": [],
   "source": [
    "x = [[0, 1, 2],\n",
    "     [2, 1, 0]]"
   ]
  },
  {
   "cell_type": "code",
   "execution_count": 196,
   "metadata": {},
   "outputs": [
    {
     "data": {
      "text/plain": [
       "array([1, 0, 0])"
      ]
     },
     "execution_count": 196,
     "metadata": {},
     "output_type": "execute_result"
    }
   ],
   "source": [
    "tf.argmax(x, axis=0).eval()"
   ]
  },
  {
   "cell_type": "code",
   "execution_count": 197,
   "metadata": {
    "scrolled": true
   },
   "outputs": [
    {
     "data": {
      "text/plain": [
       "array([2, 0])"
      ]
     },
     "execution_count": 197,
     "metadata": {},
     "output_type": "execute_result"
    }
   ],
   "source": [
    "tf.argmax(x, axis=1).eval()"
   ]
  },
  {
   "cell_type": "code",
   "execution_count": 198,
   "metadata": {},
   "outputs": [
    {
     "data": {
      "text/plain": [
       "array([2, 0])"
      ]
     },
     "execution_count": 198,
     "metadata": {},
     "output_type": "execute_result"
    }
   ],
   "source": [
    "tf.argmax(x, axis=-1).eval()"
   ]
  },
  {
   "cell_type": "markdown",
   "metadata": {},
   "source": [
    "## Reshape, squeeze, expand_dims"
   ]
  },
  {
   "cell_type": "code",
   "execution_count": 199,
   "metadata": {},
   "outputs": [
    {
     "name": "stdout",
     "output_type": "stream",
     "text": [
      "array([[[ 0,  1,  2],\n",
      "        [ 3,  4,  5]],\n",
      "\n",
      "       [[ 6,  7,  8],\n",
      "        [ 9, 10, 11]]])\n",
      "t : \n",
      " [[[ 0  1  2]\n",
      "  [ 3  4  5]]\n",
      "\n",
      " [[ 6  7  8]\n",
      "  [ 9 10 11]]]\n",
      "t_dimension : \n",
      " 3\n",
      "t_shape : \n",
      " (2, 2, 3)\n",
      "t_shape : \n",
      " (2, 2, 3)\n",
      "t_type : \n",
      " <class 'numpy.ndarray'>\n",
      "t_dtype : \n",
      " int64\n"
     ]
    }
   ],
   "source": [
    "t = np.array([[[0, 1, 2], \n",
    "               [3, 4, 5]],\n",
    "              \n",
    "              [[6, 7, 8], \n",
    "               [9, 10, 11]]])\n",
    "\n",
    "pp.pprint(t)\n",
    "print('t : \\n {0}'.format(t))\n",
    "\n",
    "print('t_dimension : \\n {0}'.format(np.ndim(t)))\n",
    "print('t_shape : \\n {0}'.format(np.shape(t)))\n",
    "print('t_shape : \\n {0}'.format(t.shape))\n",
    "\n",
    "print('t_type : \\n {0}'.format(type(t)))\n",
    "print('t_dtype : \\n {0}'.format(t.dtype))"
   ]
  },
  {
   "cell_type": "code",
   "execution_count": 200,
   "metadata": {},
   "outputs": [
    {
     "data": {
      "text/plain": [
       "(2, 2, 3)"
      ]
     },
     "execution_count": 200,
     "metadata": {},
     "output_type": "execute_result"
    }
   ],
   "source": [
    "t.shape"
   ]
  },
  {
   "cell_type": "code",
   "execution_count": 201,
   "metadata": {},
   "outputs": [
    {
     "name": "stdout",
     "output_type": "stream",
     "text": [
      "array([[ 0,  1,  2],\n",
      "       [ 3,  4,  5],\n",
      "       [ 6,  7,  8],\n",
      "       [ 9, 10, 11]])\n",
      "tt_shape : \n",
      " (4, 3)\n"
     ]
    }
   ],
   "source": [
    "tt = tf.reshape(t, shape=[-1, 3]).eval()\n",
    "\n",
    "pp.pprint(tt)\n",
    "print('tt_shape : \\n {0}'.format(tt.shape))"
   ]
  },
  {
   "cell_type": "code",
   "execution_count": 202,
   "metadata": {
    "scrolled": true
   },
   "outputs": [
    {
     "name": "stdout",
     "output_type": "stream",
     "text": [
      "array([[[ 0,  1,  2]],\n",
      "\n",
      "       [[ 3,  4,  5]],\n",
      "\n",
      "       [[ 6,  7,  8]],\n",
      "\n",
      "       [[ 9, 10, 11]]])\n",
      "tt_shape : \n",
      " (4, 1, 3)\n"
     ]
    }
   ],
   "source": [
    "tt = tf.reshape(t, shape=[-1, 1, 3]).eval()\n",
    "\n",
    "pp.pprint(tt)\n",
    "print('tt_shape : \\n {0}'.format(tt.shape))"
   ]
  },
  {
   "cell_type": "code",
   "execution_count": 203,
   "metadata": {},
   "outputs": [
    {
     "name": "stdout",
     "output_type": "stream",
     "text": [
      "array([0, 1, 2], dtype=int32)\n",
      "tt_shape : \n",
      " (3,)\n",
      "tt_shape : \n",
      " 3\n"
     ]
    }
   ],
   "source": [
    "tt = tf.squeeze([[0], [1], [2]]).eval()\n",
    "\n",
    "pp.pprint(tt)\n",
    "print('tt_shape : \\n {0}'.format(tt.shape))\n",
    "print('tt_shape : \\n {0}'.format(tt.shape[0]))"
   ]
  },
  {
   "cell_type": "code",
   "execution_count": 204,
   "metadata": {},
   "outputs": [
    {
     "data": {
      "text/plain": [
       "array([[0],\n",
       "       [1],\n",
       "       [2]], dtype=int32)"
      ]
     },
     "execution_count": 204,
     "metadata": {},
     "output_type": "execute_result"
    }
   ],
   "source": [
    "tf.expand_dims([0, 1, 2], 1).eval()"
   ]
  },
  {
   "cell_type": "markdown",
   "metadata": {},
   "source": [
    "## [ One hot ] "
   ]
  },
  {
   "cell_type": "code",
   "execution_count": 205,
   "metadata": {},
   "outputs": [
    {
     "name": "stdout",
     "output_type": "stream",
     "text": [
      "tt : \n",
      " [[0]\n",
      " [1]\n",
      " [2]\n",
      " [0]]\n",
      "tt_shape : \n",
      " (4, 1)\n",
      "tt_one_hot : \n",
      " [[[ 1.  0.  0.]]\n",
      "\n",
      " [[ 0.  1.  0.]]\n",
      "\n",
      " [[ 0.  0.  1.]]\n",
      "\n",
      " [[ 1.  0.  0.]]]\n",
      "tt_one_hot_shape : \n",
      " (4, 1, 3)\n"
     ]
    }
   ],
   "source": [
    "tt = np.array([[0], [1], [2], [0]])\n",
    "tt_one_hot = tf.one_hot(tt, depth=3).eval()\n",
    "\n",
    "# pp.pprint(tt)\n",
    "print('tt : \\n {0}'.format(tt))\n",
    "print('tt_shape : \\n {0}'.format(tt.shape))\n",
    "\n",
    "# pp.pprint(tt_one_hot)\n",
    "print('tt_one_hot : \\n {0}'.format(tt_one_hot))\n",
    "print('tt_one_hot_shape : \\n {0}'.format(tt_one_hot.shape))"
   ]
  },
  {
   "cell_type": "code",
   "execution_count": 206,
   "metadata": {},
   "outputs": [
    {
     "name": "stdout",
     "output_type": "stream",
     "text": [
      "tt : \n",
      " [[0]\n",
      " [1]\n",
      " [2]\n",
      " [0]]\n",
      "tt_shape : \n",
      " (4, 1)\n",
      "tt_one_hot : \n",
      " [[[ 1.  0.  0.  0.]]\n",
      "\n",
      " [[ 0.  1.  0.  0.]]\n",
      "\n",
      " [[ 0.  0.  1.  0.]]\n",
      "\n",
      " [[ 1.  0.  0.  0.]]]\n",
      "tt_one_hot_shape : \n",
      " (4, 1, 4)\n"
     ]
    }
   ],
   "source": [
    "tt = np.array([[0], [1], [2], [0]])\n",
    "tt_one_hot = tf.one_hot(tt, depth=4).eval()\n",
    "\n",
    "\n",
    "# pp.pprint(tt)\n",
    "print('tt : \\n {0}'.format(tt))\n",
    "print('tt_shape : \\n {0}'.format(tt.shape))\n",
    "\n",
    "# pp.pprint(tt_one_hot)\n",
    "print('tt_one_hot : \\n {0}'.format(tt_one_hot))\n",
    "print('tt_one_hot_shape : \\n {0}'.format(tt_one_hot.shape))"
   ]
  },
  {
   "cell_type": "code",
   "execution_count": 207,
   "metadata": {},
   "outputs": [
    {
     "name": "stdout",
     "output_type": "stream",
     "text": [
      "tt : \n",
      " [[0]\n",
      " [1]\n",
      " [2]\n",
      " [0]]\n",
      "tt_shape : \n",
      " (4, 1)\n",
      "tt_one_hot : \n",
      " [[[ 1.  0.  0.]]\n",
      "\n",
      " [[ 0.  1.  0.]]\n",
      "\n",
      " [[ 0.  0.  1.]]\n",
      "\n",
      " [[ 1.  0.  0.]]]\n",
      "tt_one_hot_shape : \n",
      " (4, 1, 3)\n",
      "tt_one_hot_reshape : \n",
      " [[ 1.  0.  0.]\n",
      " [ 0.  1.  0.]\n",
      " [ 0.  0.  1.]\n",
      " [ 1.  0.  0.]]\n",
      "tt_one_hot_reshape_shape : \n",
      " (4, 3)\n"
     ]
    }
   ],
   "source": [
    "tt = np.array([[0], [1], [2], [0]])\n",
    "tt_one_hot = tf.one_hot(tt, depth=3).eval()\n",
    "tt_one_hot_reshape = tf.reshape(tt_one_hot, shape=[-1, 3]).eval()\n",
    "\n",
    "\n",
    "# pp.pprint(tt)\n",
    "print('tt : \\n {0}'.format(tt))\n",
    "print('tt_shape : \\n {0}'.format(tt.shape))\n",
    "\n",
    "# pp.pprint(tt_one_hot)\n",
    "print('tt_one_hot : \\n {0}'.format(tt_one_hot))\n",
    "print('tt_one_hot_shape : \\n {0}'.format(tt_one_hot.shape))\n",
    "\n",
    "# pp.pprint(tt_one_hot_reshape)\n",
    "print('tt_one_hot_reshape : \\n {0}'.format(tt_one_hot_reshape))\n",
    "print('tt_one_hot_reshape_shape : \\n {0}'.format(tt_one_hot_reshape.shape))"
   ]
  },
  {
   "cell_type": "markdown",
   "metadata": {},
   "source": [
    "## casting"
   ]
  },
  {
   "cell_type": "code",
   "execution_count": 208,
   "metadata": {},
   "outputs": [
    {
     "data": {
      "text/plain": [
       "array([1, 2, 3, 4], dtype=int32)"
      ]
     },
     "execution_count": 208,
     "metadata": {},
     "output_type": "execute_result"
    }
   ],
   "source": [
    "tf.cast([1.8, 2.2, 3.3, 4.9], tf.int32).eval()"
   ]
  },
  {
   "cell_type": "code",
   "execution_count": 209,
   "metadata": {},
   "outputs": [
    {
     "data": {
      "text/plain": [
       "array([1, 0, 1, 0], dtype=int32)"
      ]
     },
     "execution_count": 209,
     "metadata": {},
     "output_type": "execute_result"
    }
   ],
   "source": [
    "tf.cast([True, False, 1 == 1, 0 == 1], tf.int32).eval()"
   ]
  },
  {
   "cell_type": "markdown",
   "metadata": {},
   "source": [
    "## Stack"
   ]
  },
  {
   "cell_type": "code",
   "execution_count": 210,
   "metadata": {},
   "outputs": [
    {
     "data": {
      "text/plain": [
       "array([[1, 4],\n",
       "       [2, 5],\n",
       "       [3, 6]], dtype=int32)"
      ]
     },
     "execution_count": 210,
     "metadata": {},
     "output_type": "execute_result"
    }
   ],
   "source": [
    "x = [1, 4]\n",
    "y = [2, 5]\n",
    "z = [3, 6]\n",
    "\n",
    "# Pack along first dim.\n",
    "tf.stack([x, y, z]).eval()"
   ]
  },
  {
   "cell_type": "code",
   "execution_count": 211,
   "metadata": {},
   "outputs": [
    {
     "data": {
      "text/plain": [
       "array([[1, 2, 3],\n",
       "       [4, 5, 6]], dtype=int32)"
      ]
     },
     "execution_count": 211,
     "metadata": {},
     "output_type": "execute_result"
    }
   ],
   "source": [
    "tf.stack([x, y, z], axis=1).eval()"
   ]
  },
  {
   "cell_type": "code",
   "execution_count": 212,
   "metadata": {},
   "outputs": [
    {
     "data": {
      "text/plain": [
       "array([[1, 4],\n",
       "       [2, 5],\n",
       "       [3, 6]], dtype=int32)"
      ]
     },
     "execution_count": 212,
     "metadata": {},
     "output_type": "execute_result"
    }
   ],
   "source": [
    "tf.stack([x, y, z], axis=0).eval()"
   ]
  },
  {
   "cell_type": "markdown",
   "metadata": {},
   "source": [
    "## Ones like and Zeros like"
   ]
  },
  {
   "cell_type": "code",
   "execution_count": 213,
   "metadata": {},
   "outputs": [
    {
     "data": {
      "text/plain": [
       "array([[1, 1, 1],\n",
       "       [1, 1, 1]], dtype=int32)"
      ]
     },
     "execution_count": 213,
     "metadata": {},
     "output_type": "execute_result"
    }
   ],
   "source": [
    "x = [[0, 1, 2],\n",
    "     [2, 1, 0]]\n",
    "\n",
    "tf.ones_like(x).eval()"
   ]
  },
  {
   "cell_type": "code",
   "execution_count": 214,
   "metadata": {},
   "outputs": [
    {
     "data": {
      "text/plain": [
       "array([[0, 0, 0],\n",
       "       [0, 0, 0]], dtype=int32)"
      ]
     },
     "execution_count": 214,
     "metadata": {},
     "output_type": "execute_result"
    }
   ],
   "source": [
    "tf.zeros_like(x).eval()"
   ]
  },
  {
   "cell_type": "markdown",
   "metadata": {},
   "source": [
    "## Zip\n"
   ]
  },
  {
   "cell_type": "code",
   "execution_count": 215,
   "metadata": {},
   "outputs": [
    {
     "name": "stdout",
     "output_type": "stream",
     "text": [
      "1 4\n",
      "2 5\n",
      "3 6\n"
     ]
    }
   ],
   "source": [
    "for x, y in zip([1, 2, 3], [4, 5, 6]):\n",
    "    print(x, y)"
   ]
  },
  {
   "cell_type": "code",
   "execution_count": 216,
   "metadata": {},
   "outputs": [
    {
     "name": "stdout",
     "output_type": "stream",
     "text": [
      "1 4 7\n",
      "2 5 8\n",
      "3 6 9\n"
     ]
    }
   ],
   "source": [
    "for x, y, z in zip([1, 2, 3], [4, 5, 6], [7, 8, 9]):\n",
    "    print(x, y, z)"
   ]
  },
  {
   "cell_type": "markdown",
   "metadata": {},
   "source": [
    "## Transpose"
   ]
  },
  {
   "cell_type": "code",
   "execution_count": 217,
   "metadata": {},
   "outputs": [
    {
     "name": "stdout",
     "output_type": "stream",
     "text": [
      "(2, 2, 3)\n",
      "array([[[ 0,  1,  2],\n",
      "        [ 3,  4,  5]],\n",
      "\n",
      "       [[ 6,  7,  8],\n",
      "        [ 9, 10, 11]]])\n"
     ]
    }
   ],
   "source": [
    "t = np.array([[[0, 1, 2], [3, 4, 5]], [[6, 7, 8], [9, 10, 11]]])\n",
    "pp.pprint(t.shape)\n",
    "pp.pprint(t)"
   ]
  },
  {
   "cell_type": "code",
   "execution_count": 218,
   "metadata": {
    "scrolled": true
   },
   "outputs": [
    {
     "name": "stdout",
     "output_type": "stream",
     "text": [
      "(2, 2, 3)\n",
      "array([[[ 0,  1,  2],\n",
      "        [ 6,  7,  8]],\n",
      "\n",
      "       [[ 3,  4,  5],\n",
      "        [ 9, 10, 11]]])\n"
     ]
    }
   ],
   "source": [
    "t1 = tf.transpose(t, [1, 0, 2])\n",
    "pp.pprint(sess.run(t1).shape)\n",
    "pp.pprint(sess.run(t1))"
   ]
  },
  {
   "cell_type": "code",
   "execution_count": 219,
   "metadata": {},
   "outputs": [
    {
     "name": "stdout",
     "output_type": "stream",
     "text": [
      "(2, 2, 3)\n",
      "array([[[ 0,  1,  2],\n",
      "        [ 3,  4,  5]],\n",
      "\n",
      "       [[ 6,  7,  8],\n",
      "        [ 9, 10, 11]]])\n"
     ]
    }
   ],
   "source": [
    "t = tf.transpose(t1, [1, 0, 2])\n",
    "pp.pprint(sess.run(t).shape)\n",
    "pp.pprint(sess.run(t))"
   ]
  },
  {
   "cell_type": "code",
   "execution_count": 220,
   "metadata": {},
   "outputs": [
    {
     "name": "stdout",
     "output_type": "stream",
     "text": [
      "['OVERLOADABLE_OPERATORS', '__abs__', '__add__', '__and__', '__array_priority__', '__bool__', '__class__', '__delattr__', '__dict__', '__dir__', '__div__', '__doc__', '__eq__', '__floordiv__', '__format__', '__ge__', '__getattribute__', '__getitem__', '__gt__', '__hash__', '__init__', '__init_subclass__', '__invert__', '__iter__', '__le__', '__lt__', '__matmul__', '__mod__', '__module__', '__mul__', '__ne__', '__neg__', '__new__', '__nonzero__', '__or__', '__pow__', '__radd__', '__rand__', '__rdiv__', '__reduce__', '__reduce_ex__', '__repr__', '__rfloordiv__', '__rmatmul__', '__rmod__', '__rmul__', '__ror__', '__rpow__', '__rsub__', '__rtruediv__', '__rxor__', '__setattr__', '__sizeof__', '__str__', '__sub__', '__subclasshook__', '__truediv__', '__weakref__', '__xor__', '_add_consumer', '_as_node_def_input', '_as_tf_output', '_consumers', '_dtype', '_handle_dtype', '_handle_shape', '_op', '_override_operator', '_shape', '_shape_as_list', '_value_index', 'consumers', 'device', 'dtype', 'eval', 'get_shape', 'graph', 'name', 'op', 'set_shape', 'shape', 'value_index']\n",
      "3\n",
      "(2, 3, 2)\n",
      "array([[[ 0,  6],\n",
      "        [ 1,  7],\n",
      "        [ 2,  8]],\n",
      "\n",
      "       [[ 3,  9],\n",
      "        [ 4, 10],\n",
      "        [ 5, 11]]])\n"
     ]
    }
   ],
   "source": [
    "t2 = tf.transpose(t, [1, 2, 0])\n",
    "\n",
    "print(dir(t2))\n",
    "pp.pprint(sess.run(t2).ndim)\n",
    "pp.pprint(sess.run(t2).shape)\n",
    "pp.pprint(sess.run(t2))"
   ]
  },
  {
   "cell_type": "code",
   "execution_count": 221,
   "metadata": {},
   "outputs": [
    {
     "name": "stdout",
     "output_type": "stream",
     "text": [
      "(2, 2, 3)\n",
      "array([[[ 0,  1,  2],\n",
      "        [ 3,  4,  5]],\n",
      "\n",
      "       [[ 6,  7,  8],\n",
      "        [ 9, 10, 11]]])\n",
      "[00] : AdadeltaOptimizer\n",
      "[01] : AdagradDAOptimizer\n",
      "[02] : AdagradOptimizer\n",
      "[03] : AdamOptimizer\n",
      "[04] : BytesList\n",
      "[05] : CheckpointSaverHook\n",
      "[06] : CheckpointSaverListener\n",
      "[07] : ChiefSessionCreator\n",
      "[08] : ClusterDef\n",
      "[09] : ClusterSpec\n",
      "[10] : Coordinator\n",
      "[11] : Example\n",
      "[12] : ExponentialMovingAverage\n",
      "[13] : Feature\n",
      "[14] : FeatureList\n",
      "[15] : FeatureLists\n",
      "[16] : Features\n",
      "[17] : FeedFnHook\n",
      "[18] : FinalOpsHook\n",
      "[19] : FloatList\n",
      "[20] : FtrlOptimizer\n",
      "[21] : GlobalStepWaiterHook\n",
      "[22] : GradientDescentOptimizer\n",
      "[23] : Int64List\n",
      "[24] : JobDef\n",
      "[25] : LoggingTensorHook\n",
      "[26] : LooperThread\n",
      "[27] : MomentumOptimizer\n",
      "[28] : MonitoredSession\n",
      "[29] : MonitoredTrainingSession\n",
      "[30] : NanLossDuringTrainingError\n",
      "[31] : NanTensorHook\n",
      "[32] : NewCheckpointReader\n",
      "[33] : Optimizer\n",
      "[34] : ProximalAdagradOptimizer\n",
      "[35] : ProximalGradientDescentOptimizer\n",
      "[36] : QueueRunner\n",
      "[37] : RMSPropOptimizer\n",
      "[38] : Saver\n",
      "[39] : SaverDef\n",
      "[40] : Scaffold\n",
      "[41] : SecondOrStepTimer\n",
      "[42] : SequenceExample\n",
      "[43] : Server\n",
      "[44] : ServerDef\n",
      "[45] : SessionCreator\n",
      "[46] : SessionManager\n",
      "[47] : SessionRunArgs\n",
      "[48] : SessionRunContext\n",
      "[49] : SessionRunHook\n",
      "[50] : SessionRunValues\n",
      "[51] : SingularMonitoredSession\n",
      "[52] : StepCounterHook\n",
      "[53] : StopAtStepHook\n",
      "[54] : SummarySaverHook\n",
      "[55] : Supervisor\n",
      "[56] : SyncReplicasOptimizer\n",
      "[57] : WorkerSessionCreator\n",
      "[58] : __builtins__\n",
      "[59] : __cached__\n",
      "[60] : __doc__\n",
      "[61] : __file__\n",
      "[62] : __loader__\n",
      "[63] : __name__\n",
      "[64] : __package__\n",
      "[65] : __spec__\n",
      "[66] : _allowed_symbols\n",
      "[67] : _input\n",
      "[68] : _io_ops\n",
      "[69] : _sdca_ops\n",
      "[70] : _state_ops\n",
      "[71] : _sys\n",
      "[72] : add_queue_runner\n",
      "[73] : assert_global_step\n",
      "[74] : basic_train_loop\n",
      "[75] : batch\n",
      "[76] : batch_join\n",
      "[77] : checkpoint_exists\n",
      "[78] : create_global_step\n",
      "[79] : do_quantize_training_on_graphdef\n",
      "[80] : exponential_decay\n",
      "[81] : export_meta_graph\n",
      "[82] : generate_checkpoint_state_proto\n",
      "[83] : get_checkpoint_mtimes\n",
      "[84] : get_checkpoint_state\n",
      "[85] : get_global_step\n",
      "[86] : get_or_create_global_step\n",
      "[87] : global_step\n",
      "[88] : import_meta_graph\n",
      "[89] : input_producer\n",
      "[90] : inverse_time_decay\n",
      "[91] : latest_checkpoint\n",
      "[92] : limit_epochs\n",
      "[93] : match_filenames_once\n",
      "[94] : maybe_batch\n",
      "[95] : maybe_batch_join\n",
      "[96] : maybe_shuffle_batch\n",
      "[97] : maybe_shuffle_batch_join\n",
      "[98] : natural_exp_decay\n",
      "[99] : piecewise_constant\n",
      "[100] : polynomial_decay\n",
      "[101] : queue_runner\n",
      "[102] : range_input_producer\n",
      "[103] : replica_device_setter\n",
      "[104] : sdca_fprint\n",
      "[105] : sdca_optimizer\n",
      "[106] : sdca_shrink_l1\n",
      "[107] : shuffle_batch\n",
      "[108] : shuffle_batch_join\n",
      "[109] : slice_input_producer\n",
      "[110] : start_queue_runners\n",
      "[111] : string_input_producer\n",
      "[112] : summary_iterator\n",
      "[113] : update_checkpoint_state\n",
      "[114] : write_graph\n"
     ]
    }
   ],
   "source": [
    "t = tf.transpose(t2, [2, 0, 1])\n",
    "pp.pprint(sess.run(t).shape)\n",
    "pp.pprint(sess.run(t))\n",
    "\n",
    "# print('functions on \"tf.train\" class : \\n {0}'.format(dir(tf.train)))\n",
    "index = 0\n",
    "for func in dir(tf.train):\n",
    "    print('[%02d] : %s' %  (index, func))\n",
    "    index += 1"
   ]
  },
  {
   "cell_type": "code",
   "execution_count": null,
   "metadata": {
    "collapsed": true
   },
   "outputs": [],
   "source": [
    ""
   ]
  }
 ],
 "metadata": {
  "kernelspec": {
   "display_name": "Python 3",
   "language": "python",
   "name": "python3"
  },
  "language_info": {
   "codemirror_mode": {
    "name": "ipython",
    "version": 3.0
   },
   "file_extension": ".py",
   "mimetype": "text/x-python",
   "name": "python",
   "nbconvert_exporter": "python",
   "pygments_lexer": "ipython3",
   "version": "3.5.3"
  }
 },
 "nbformat": 4,
 "nbformat_minor": 0
}