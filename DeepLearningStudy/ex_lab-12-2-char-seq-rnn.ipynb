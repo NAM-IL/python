{
 "cells": [
  {
   "cell_type": "markdown",
   "metadata": {},
   "source": [
    "# <span style=\"color:blue\">[</span> lab-12-2-char-seq-rnn <span style=\"color:blue\">]</span>\n",
    "<p>출처: <a href=\"http://hunkim.github.io/ml/\" title=\"모두를 위한 머신러닝과 딥러닝의 강의\" target=\"blank\">모두를 위한 머신러닝과 딥러닝의 강의</a></p> <br/>\n",
    "> [Tensorflow Document(Tensor Transformations)](https://www.tensorflow.org/api_guides/python/array_ops)  <br/>\n",
    "> [CS 20SI: Tensorflow for Deep Learning Research](http://web.stanford.edu/class/cs20si/)"
   ]
  },
  {
   "cell_type": "code",
   "execution_count": 1,
   "metadata": {
    "collapsed": true
   },
   "outputs": [],
   "source": [
    "# Lab 12 Character Sequence RNN\n",
    "import os\n",
    "# silence INFO logs set it to 1\n",
    "# filter out WARNING set it to 2 \n",
    "# silence ERROR logs (not recommended) set it to 3\n",
    "os.environ['TF_CPP_MIN_LOG_LEVEL'] = '2'\n",
    "\n",
    "import tensorflow as tf\n",
    "import numpy as np"
   ]
  },
  {
   "cell_type": "markdown",
   "metadata": {},
   "source": []
  },
  {
   "cell_type": "code",
   "execution_count": 2,
   "metadata": {
    "collapsed": true
   },
   "outputs": [],
   "source": [
    "tf.set_random_seed(777)  # reproducibility\n",
    "\n",
    "sample = \" if you want you\"\n",
    "idx2char = list(set(sample))  # index -> char\n",
    "char2idx = {c: i for i, c in enumerate(idx2char)}  # char -> idex\n",
    "\n",
    "# hyper parameters\n",
    "dic_size = len(char2idx)  # RNN input size (one hot size)\n",
    "hidden_size = len(char2idx)  # RNN output size\n",
    "num_classes = len(char2idx)  # final output size (RNN or softmax, etc.)\n",
    "batch_size = 1  # one sample data, one batch\n",
    "sequence_length = len(sample) - 1  # number of lstm rollings (unit #)\n",
    "learning_rate = 0.1\n",
    "\n",
    "sample_idx = [char2idx[c] for c in sample]  # char to index\n",
    "x_data = [sample_idx[:-1]]  # X data sample (0 ~ n-1) hello: hell\n",
    "y_data = [sample_idx[1:]]   # Y label sample (1 ~ n) hello: ell"
   ]
  },
  {
   "cell_type": "markdown",
   "metadata": {},
   "source": []
  },
  {
   "cell_type": "code",
   "execution_count": 3,
   "metadata": {
    "collapsed": true
   },
   "outputs": [],
   "source": [
    "X = tf.placeholder(tf.int32, [None, sequence_length])  # X data\n",
    "Y = tf.placeholder(tf.int32, [None, sequence_length])  # Y label"
   ]
  },
  {
   "cell_type": "markdown",
   "metadata": {},
   "source": []
  },
  {
   "cell_type": "code",
   "execution_count": 4,
   "metadata": {},
   "outputs": [],
   "source": [
    "x_one_hot = tf.one_hot(X, num_classes)  # one hot: 1 -> 0 1 0 0 0 0 0 0 0 0\n",
    "cell = tf.contrib.rnn.BasicLSTMCell(num_units=hidden_size, state_is_tuple=True)\n",
    "initial_state = cell.zero_state(batch_size, tf.float32)\n",
    "outputs, _states = tf.nn.dynamic_rnn(cell, x_one_hot, initial_state=initial_state, dtype=tf.float32)"
   ]
  },
  {
   "cell_type": "markdown",
   "metadata": {},
   "source": []
  },
  {
   "cell_type": "code",
   "execution_count": 5,
   "metadata": {
    "collapsed": true
   },
   "outputs": [],
   "source": [
    "# FC layer\n",
    "X_for_fc = tf.reshape(outputs, [-1, hidden_size])\n",
    "outputs = tf.contrib.layers.fully_connected(outputs, num_classes, activation_fn=None)"
   ]
  },
  {
   "cell_type": "markdown",
   "metadata": {},
   "source": []
  },
  {
   "cell_type": "code",
   "execution_count": 6,
   "metadata": {
    "collapsed": true
   },
   "outputs": [],
   "source": [
    "# reshape out for sequence_loss\n",
    "outputs = tf.reshape(outputs, [batch_size, sequence_length, num_classes])"
   ]
  },
  {
   "cell_type": "markdown",
   "metadata": {},
   "source": []
  },
  {
   "cell_type": "code",
   "execution_count": 7,
   "metadata": {
    "collapsed": true
   },
   "outputs": [],
   "source": [
    "weights = tf.ones([batch_size, sequence_length])\n",
    "sequence_loss = tf.contrib.seq2seq.sequence_loss(logits=outputs, targets=Y, weights=weights)\n",
    "loss = tf.reduce_mean(sequence_loss)\n",
    "train = tf.train.AdamOptimizer(learning_rate=learning_rate).minimize(loss)\n",
    "\n",
    "prediction = tf.argmax(outputs, axis=2)"
   ]
  },
  {
   "cell_type": "markdown",
   "metadata": {},
   "source": []
  },
  {
   "cell_type": "code",
   "execution_count": 8,
   "metadata": {},
   "outputs": [
    {
     "name": "stdout",
     "output_type": "stream",
     "text": [
      "0 loss: 2.31902 Prediction: uuuuouuuuouuuou\n",
      "1 loss: 2.19079 Prediction: u uuouuuooooooo\n",
      "2 loss: 2.05857 Prediction: y   ou  uo  uou\n",
      "3 loss: 1.87971 Prediction: y   ou want uou\n",
      "4 loss: 1.6545 Prediction: y   ou want oou\n",
      "5 loss: 1.34818 Prediction: y   ou want you\n",
      "6 loss: 1.05922 Prediction: y   ou want you\n",
      "7 loss: 0.840225 Prediction: y  you want you\n",
      "8 loss: 0.633387 Prediction: yf you want you\n",
      "9 loss: 0.473833 Prediction: yf you want you\n",
      "10 loss: 0.342214 Prediction: yf you want you\n",
      "11 loss: 0.253288 Prediction: if you want you\n",
      "12 loss: 0.193647 Prediction: if you want you\n",
      "13 loss: 0.143812 Prediction: if you want you\n",
      "14 loss: 0.105368 Prediction: if you want you\n",
      "15 loss: 0.0752206 Prediction: if you want you\n",
      "16 loss: 0.0532051 Prediction: if you want you\n",
      "17 loss: 0.0381469 Prediction: if you want you\n",
      "18 loss: 0.0275081 Prediction: if you want you\n",
      "19 loss: 0.0199943 Prediction: if you want you\n",
      "20 loss: 0.0148345 Prediction: if you want you\n",
      "21 loss: 0.0113403 Prediction: if you want you\n",
      "22 loss: 0.00893641 Prediction: if you want you\n",
      "23 loss: 0.00722933 Prediction: if you want you\n",
      "24 loss: 0.00597674 Prediction: if you want you\n",
      "25 loss: 0.00503075 Prediction: if you want you\n",
      "26 loss: 0.00429855 Prediction: if you want you\n",
      "27 loss: 0.00371951 Prediction: if you want you\n",
      "28 loss: 0.00325229 Prediction: if you want you\n",
      "29 loss: 0.00286797 Prediction: if you want you\n",
      "30 loss: 0.00254616 Prediction: if you want you\n",
      "31 loss: 0.00227247 Prediction: if you want you\n",
      "32 loss: 0.00203735 Prediction: if you want you\n",
      "33 loss: 0.00183427 Prediction: if you want you\n",
      "34 loss: 0.00165883 Prediction: if you want you\n",
      "35 loss: 0.00150739 Prediction: if you want you\n",
      "36 loss: 0.00137695 Prediction: if you want you\n",
      "37 loss: 0.00126454 Prediction: if you want you\n",
      "38 loss: 0.00116763 Prediction: if you want you\n",
      "39 loss: 0.00108393 Prediction: if you want you\n",
      "40 loss: 0.00101136 Prediction: if you want you\n",
      "41 loss: 0.000948172 Prediction: if you want you\n",
      "42 loss: 0.000892959 Prediction: if you want you\n",
      "43 loss: 0.000844561 Prediction: if you want you\n",
      "44 loss: 0.00080186 Prediction: if you want you\n",
      "45 loss: 0.00076411 Prediction: if you want you\n",
      "46 loss: 0.000730543 Prediction: if you want you\n",
      "47 loss: 0.000700594 Prediction: if you want you\n",
      "48 loss: 0.000673813 Prediction: if you want you\n",
      "49 loss: 0.000649746 Prediction: if you want you\n"
     ]
    },
    {
     "data": {
      "text/plain": [
       "'\\n0 loss: 2.35377 Prediction: uuuuuuuuuuuuuuu\\n1 loss: 2.21383 Prediction: yy you y    you\\n2 loss: 2.04317 Prediction: yy yoo       ou\\n3 loss: 1.85869 Prediction: yy  ou      uou\\n4 loss: 1.65096 Prediction: yy you  a   you\\n5 loss: 1.40243 Prediction: yy you yan  you\\n6 loss: 1.12986 Prediction: yy you wann you\\n7 loss: 0.907699 Prediction: yy you want you\\n8 loss: 0.687401 Prediction: yf you want you\\n9 loss: 0.508868 Prediction: yf you want you\\n10 loss: 0.379423 Prediction: yf you want you\\n11 loss: 0.282956 Prediction: if you want you\\n12 loss: 0.208561 Prediction: if you want you\\n\\n...\\n\\n'"
      ]
     },
     "execution_count": 8,
     "metadata": {},
     "output_type": "execute_result"
    }
   ],
   "source": [
    "with tf.Session() as sess:\n",
    "    sess.run(tf.global_variables_initializer())\n",
    "    for i in range(50):\n",
    "        l, _ = sess.run([loss, train], feed_dict={X: x_data, Y: y_data})\n",
    "        result = sess.run(prediction, feed_dict={X: x_data})\n",
    "\n",
    "        # print char using dic\n",
    "        result_str = [idx2char[c] for c in np.squeeze(result)]\n",
    "\n",
    "        print(i, \"loss:\", l, \"Prediction:\", ''.join(result_str))\n",
    "\n",
    "\n",
    "'''\n",
    "0 loss: 2.35377 Prediction: uuuuuuuuuuuuuuu\n",
    "1 loss: 2.21383 Prediction: yy you y    you\n",
    "2 loss: 2.04317 Prediction: yy yoo       ou\n",
    "3 loss: 1.85869 Prediction: yy  ou      uou\n",
    "4 loss: 1.65096 Prediction: yy you  a   you\n",
    "5 loss: 1.40243 Prediction: yy you yan  you\n",
    "6 loss: 1.12986 Prediction: yy you wann you\n",
    "7 loss: 0.907699 Prediction: yy you want you\n",
    "8 loss: 0.687401 Prediction: yf you want you\n",
    "9 loss: 0.508868 Prediction: yf you want you\n",
    "10 loss: 0.379423 Prediction: yf you want you\n",
    "11 loss: 0.282956 Prediction: if you want you\n",
    "12 loss: 0.208561 Prediction: if you want you\n",
    "\n",
    "...\n",
    "\n",
    "'''"
   ]
  }
 ],
 "metadata": {
  "kernelspec": {
   "display_name": "Python 3",
   "language": "python",
   "name": "python3"
  },
  "language_info": {
   "codemirror_mode": {
    "name": "ipython",
    "version": 3
   },
   "file_extension": ".py",
   "mimetype": "text/x-python",
   "name": "python",
   "nbconvert_exporter": "python",
   "pygments_lexer": "ipython3",
   "version": "3.6.1"
  }
 },
 "nbformat": 4,
 "nbformat_minor": 2
}
